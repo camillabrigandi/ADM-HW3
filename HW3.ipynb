{
 "cells": [
  {
   "cell_type": "markdown",
   "metadata": {},
   "source": [
    "# ADM - HW 3"
   ]
  },
  {
   "cell_type": "code",
   "execution_count": 1,
   "metadata": {},
   "outputs": [],
   "source": [
    "import functions \n",
    "\n",
    "from bs4 import BeautifulSoup\n",
    "import requests\n",
    "import os \n",
    "import time\n",
    "import pandas as pd \n",
    "import csv \n",
    "import nltk\n",
    "import calendar\n",
    "from nltk.corpus import stopwords\n",
    "import numpy as np\n",
    "from collections import Counter\n",
    "from functools import reduce\n",
    "import pickle \n",
    "from sklearn.feature_extraction.text import TfidfVectorizer, TfidfTransformer\n",
    "from sklearn.metrics.pairwise import cosine_similarity\n",
    "import heapq\n",
    "from collections import Counter\n",
    "import re\n",
    "from rank_bm25 import BM25Okapi\n",
    "import plotly.graph_objects as go\n",
    "from geopy.geocoders import Nominatim\n",
    "import plotly.express as px\n"
   ]
  },
  {
   "cell_type": "markdown",
   "metadata": {},
   "source": [
    "# 1. Data Collection"
   ]
  },
  {
   "cell_type": "markdown",
   "metadata": {},
   "source": [
    "## 1.1 Get the list of master's degree courses"
   ]
  },
  {
   "cell_type": "markdown",
   "metadata": {},
   "source": [
    "The code for this section can be found in the *crawler.py* file. \n",
    "\n",
    "\n",
    "Our process for retrieving the lisks consist in first creating a list containing the urls to all the 6000 courses contained in the 400 pages, then, after making sure we have all the urls by checking the lenght of this list, we write them in a *.txt. file. The main reason we decided not to write directly the urls on a file is because we wanted to be able to check quickly if we had all the urls, since this process gave us some troubles.\n",
    "\n",
    "To compile the list:\n",
    "1. we designed a function, *extract_masters* that for each page in the catalogue, retrieves all the 15 links to the courses and returns them in a list;\n",
    "2. we iterate on the firsts 400 pages and call the above mentioned function on every page, updating the list with all the links by appending the resuls obtained for each age to the \"main list\".\n",
    "\n",
    "To iterate on the 400 pages, we noticed that the url of th various pages is *https://www.findamasters.com/masters-degrees/msc-degrees/?PG=* followed by the number of the page in the MSc courses catalogue we're in, so we updated the url of each page by changing the number of the page at each iteration.\n",
    "\n",
    "\n"
   ]
  },
  {
   "cell_type": "markdown",
   "metadata": {},
   "source": [
    "## 1.2 Crawl master's degree pages "
   ]
  },
  {
   "cell_type": "markdown",
   "metadata": {},
   "source": [
    "The code for this section can be found in *crawler.py*. \n",
    "\n",
    "After writing the *.txt* file containing all the urls to the MSc courses pages, we need to download each page corresponding html file. To do so, we iterate with a for loop over the number of the pages of the MSc courses catalogue and, for each page, we first select the link contained in that page from the list created for point 1.1, then we iterate through this sublist and download the html of each page putting it in the correct folder.    \n",
    "\n",
    "In order to be able to download the htmls, we complete the url of the page by adding \"https://www.findamasters.com/\" at the beginning of each link we have, then we use this complete url as an input for the function we designed to download the htmls.   \n",
    "This function, *download_html*, takes in input two variables: the url of the page we need to download and the destination folder. It first creates the non-already exsting folders, then downloads the html files, saving them with the \"filename\" we decided to give them by usign requests and BeautifulSoup. For the filename, we decided to keep the \"relevant part\" of the url (the one that has inside the name of the MSc degree and its identification code at the end of the url), but we replaced \"/\" with underscores since \"/\" character messes up the file directory. \n",
    "\n"
   ]
  },
  {
   "cell_type": "markdown",
   "metadata": {},
   "source": [
    "## 1.3 Parse downloaded pages"
   ]
  },
  {
   "cell_type": "markdown",
   "metadata": {},
   "source": [
    "The code for this section can be found inside the *parser.py* file.\n",
    "\n",
    "In this section of the homework, we were asked to create 6000 *.tsv* files, each one containing some relevant info about the course.\n",
    "To do so, we access to all the .html files we downloaded in the previous point by iterating throguh the 400 folders we created and accessing the 15 files inside each folder, one by one, and applying on each of them the function we created to solve this task, *get_attributes*, and using the output of this function to write the *.tsv* file.\n",
    "\n",
    "The function first initializes the output values as empty strings, then goes trough the document given in input to find the info needed. Each of this info is obtained by exploiting the html structure of the file: each info is stored in a particular element of the html, that we identified using the \"Inspect\" web based tool. Some of the info we obtained from the html are also processed inside the function, since for some courses they were multi-line info, or they were stored in different paragraph in the html. \n",
    "\n",
    "Besides, after saving all these files, we merged them to have only one *.csv* file containing all the dataset, and this is the file we are using to load the dataset below. The code we used to merge all the files can be seen can be found in the file *dataset_creation.py*.\n",
    "\n",
    "\n",
    "Now that we made our explainations, let's load the dataset."
   ]
  },
  {
   "cell_type": "code",
   "execution_count": 2,
   "metadata": {},
   "outputs": [
    {
     "data": {
      "text/html": [
       "<div>\n",
       "<style scoped>\n",
       "    .dataframe tbody tr th:only-of-type {\n",
       "        vertical-align: middle;\n",
       "    }\n",
       "\n",
       "    .dataframe tbody tr th {\n",
       "        vertical-align: top;\n",
       "    }\n",
       "\n",
       "    .dataframe thead th {\n",
       "        text-align: right;\n",
       "    }\n",
       "</style>\n",
       "<table border=\"1\" class=\"dataframe\">\n",
       "  <thead>\n",
       "    <tr style=\"text-align: right;\">\n",
       "      <th></th>\n",
       "      <th>courseName</th>\n",
       "      <th>universityName</th>\n",
       "      <th>facultyName</th>\n",
       "      <th>isItFullTime</th>\n",
       "      <th>description</th>\n",
       "      <th>startDate</th>\n",
       "      <th>fees</th>\n",
       "      <th>modality</th>\n",
       "      <th>duration</th>\n",
       "      <th>city</th>\n",
       "      <th>country</th>\n",
       "      <th>administration</th>\n",
       "      <th>url</th>\n",
       "    </tr>\n",
       "  </thead>\n",
       "  <tbody>\n",
       "    <tr>\n",
       "      <th>0</th>\n",
       "      <td>Advanced Physiotherapy Practice - MSc</td>\n",
       "      <td>Glasgow Caledonian University</td>\n",
       "      <td>School of Health and Life Sciences</td>\n",
       "      <td>Full time</td>\n",
       "      <td>Progress your career as a physiotherapist wit...</td>\n",
       "      <td>January, September</td>\n",
       "      <td>Please see the university website for further...</td>\n",
       "      <td>MSc</td>\n",
       "      <td>1 Year Full Time / 2-3 Years Part Time</td>\n",
       "      <td>Glasgow</td>\n",
       "      <td>United Kingdom</td>\n",
       "      <td>On Campus</td>\n",
       "      <td>https://www.findamasters.com/masters-degrees/...</td>\n",
       "    </tr>\n",
       "    <tr>\n",
       "      <th>1</th>\n",
       "      <td>Advanced Master in Innovation &amp; Strategic Mana...</td>\n",
       "      <td>Solvay Brussels School</td>\n",
       "      <td>Economics and Management</td>\n",
       "      <td>Full time</td>\n",
       "      <td>Programme overview   The Advanced Master in I...</td>\n",
       "      <td>September</td>\n",
       "      <td>18.000 €</td>\n",
       "      <td>MA MSc Other Pre-Masters Masters Module</td>\n",
       "      <td>10 months</td>\n",
       "      <td>Brussels</td>\n",
       "      <td>Belgium</td>\n",
       "      <td>On Campus</td>\n",
       "      <td>https://www.findamasters.com/masters-degrees/...</td>\n",
       "    </tr>\n",
       "    <tr>\n",
       "      <th>2</th>\n",
       "      <td>Accounting, Financial Management and Digital B...</td>\n",
       "      <td>University of Reading</td>\n",
       "      <td>Henley Business School</td>\n",
       "      <td>Full time</td>\n",
       "      <td>Embark on a professional accounting career wi...</td>\n",
       "      <td>September</td>\n",
       "      <td>Please see the university website for further...</td>\n",
       "      <td>MSc</td>\n",
       "      <td>1 year full time</td>\n",
       "      <td>Reading</td>\n",
       "      <td>United Kingdom</td>\n",
       "      <td>On Campus</td>\n",
       "      <td>https://www.findamasters.com/masters-degrees/...</td>\n",
       "    </tr>\n",
       "    <tr>\n",
       "      <th>3</th>\n",
       "      <td>Analytical Toxicology MSc</td>\n",
       "      <td>King’s College London</td>\n",
       "      <td>Faculty of Life Sciences &amp; Medicine</td>\n",
       "      <td>Full time</td>\n",
       "      <td>The Analytical Toxicology MSc is a unique stu...</td>\n",
       "      <td>See Course</td>\n",
       "      <td>Please see the university website for further...</td>\n",
       "      <td>MSc</td>\n",
       "      <td>Full-time: One year</td>\n",
       "      <td>London</td>\n",
       "      <td>United Kingdom</td>\n",
       "      <td>On Campus</td>\n",
       "      <td>https://www.findamasters.com/masters-degrees/...</td>\n",
       "    </tr>\n",
       "    <tr>\n",
       "      <th>4</th>\n",
       "      <td>Accounting and Finance - MSc</td>\n",
       "      <td>University of Leeds</td>\n",
       "      <td>Leeds University Business School</td>\n",
       "      <td>Full time</td>\n",
       "      <td>Businesses and governments rely on sound fina...</td>\n",
       "      <td>September</td>\n",
       "      <td>UK: £18,000 (Total)  International: £34,750 (...</td>\n",
       "      <td>MSc</td>\n",
       "      <td>1 year full time</td>\n",
       "      <td>Leeds</td>\n",
       "      <td>United Kingdom</td>\n",
       "      <td>On Campus</td>\n",
       "      <td>https://www.findamasters.com/masters-degrees/...</td>\n",
       "    </tr>\n",
       "    <tr>\n",
       "      <th>...</th>\n",
       "      <td>...</td>\n",
       "      <td>...</td>\n",
       "      <td>...</td>\n",
       "      <td>...</td>\n",
       "      <td>...</td>\n",
       "      <td>...</td>\n",
       "      <td>...</td>\n",
       "      <td>...</td>\n",
       "      <td>...</td>\n",
       "      <td>...</td>\n",
       "      <td>...</td>\n",
       "      <td>...</td>\n",
       "      <td>...</td>\n",
       "    </tr>\n",
       "    <tr>\n",
       "      <th>5995</th>\n",
       "      <td>Masters of Science in Business, Supply Chain A...</td>\n",
       "      <td>Oregon State University</td>\n",
       "      <td>School of Business</td>\n",
       "      <td>Full time</td>\n",
       "      <td>Master of Science in Business (MSB)   Our Mas...</td>\n",
       "      <td>See Course</td>\n",
       "      <td>Please see the university website for further...</td>\n",
       "      <td>MSc</td>\n",
       "      <td>12 months</td>\n",
       "      <td>Corvallis</td>\n",
       "      <td>USA</td>\n",
       "      <td>Online</td>\n",
       "      <td>https://www.findamasters.com/masters-degrees/...</td>\n",
       "    </tr>\n",
       "    <tr>\n",
       "      <th>5996</th>\n",
       "      <td>Material Culture &amp; Artefact Studies - MSc/PgDip</td>\n",
       "      <td>University of Glasgow</td>\n",
       "      <td>College of Arts &amp; Humanities</td>\n",
       "      <td>Full time</td>\n",
       "      <td>Material culture and artefact studies combine...</td>\n",
       "      <td>September</td>\n",
       "      <td>Please see the university website for further...</td>\n",
       "      <td>MSc PGDip</td>\n",
       "      <td>9-12 months full-time, 18-24 months part-time</td>\n",
       "      <td>Glasgow</td>\n",
       "      <td>United Kingdom</td>\n",
       "      <td>On Campus</td>\n",
       "      <td>https://www.findamasters.com/masters-degrees/...</td>\n",
       "    </tr>\n",
       "    <tr>\n",
       "      <th>5997</th>\n",
       "      <td>Master's of Computer Science</td>\n",
       "      <td>Harbour.Space University</td>\n",
       "      <td>Masters Programmes</td>\n",
       "      <td>Full time</td>\n",
       "      <td>Harbour.Space’s Master's of Computer Science ...</td>\n",
       "      <td>September, January</td>\n",
       "      <td>€29,900/year</td>\n",
       "      <td>MSc</td>\n",
       "      <td>1 year or 2 years</td>\n",
       "      <td>Barcelona</td>\n",
       "      <td>Spain</td>\n",
       "      <td>On Campus</td>\n",
       "      <td>https://www.findamasters.com/masters-degrees/...</td>\n",
       "    </tr>\n",
       "    <tr>\n",
       "      <th>5998</th>\n",
       "      <td>Master's of Financial Technology (Fintech)</td>\n",
       "      <td>Harbour.Space University</td>\n",
       "      <td>Masters Programmes</td>\n",
       "      <td>Full time</td>\n",
       "      <td>Harbour.Space's FinTech Master programme     ...</td>\n",
       "      <td>September, January</td>\n",
       "      <td>€29,900/year</td>\n",
       "      <td>MBA MSc</td>\n",
       "      <td>1 Year</td>\n",
       "      <td>Barcelona</td>\n",
       "      <td>Spain</td>\n",
       "      <td>On Campus</td>\n",
       "      <td>https://www.findamasters.com/masters-degrees/...</td>\n",
       "    </tr>\n",
       "    <tr>\n",
       "      <th>5999</th>\n",
       "      <td>Masters of Finance</td>\n",
       "      <td>University of Hong Kong</td>\n",
       "      <td>Faculty of Business and Economics</td>\n",
       "      <td>Full time</td>\n",
       "      <td>The HKU Business School Master of Finance (MF...</td>\n",
       "      <td>August</td>\n",
       "      <td>Please see the university website for further...</td>\n",
       "      <td>MSc</td>\n",
       "      <td>12 months full-time</td>\n",
       "      <td>Hong Kong</td>\n",
       "      <td>Hong Kong</td>\n",
       "      <td>On Campus</td>\n",
       "      <td>https://www.findamasters.com/masters-degrees/...</td>\n",
       "    </tr>\n",
       "  </tbody>\n",
       "</table>\n",
       "<p>6000 rows × 13 columns</p>\n",
       "</div>"
      ],
      "text/plain": [
       "                                             courseName  \\\n",
       "0                 Advanced Physiotherapy Practice - MSc   \n",
       "1     Advanced Master in Innovation & Strategic Mana...   \n",
       "2     Accounting, Financial Management and Digital B...   \n",
       "3                             Analytical Toxicology MSc   \n",
       "4                          Accounting and Finance - MSc   \n",
       "...                                                 ...   \n",
       "5995  Masters of Science in Business, Supply Chain A...   \n",
       "5996    Material Culture & Artefact Studies - MSc/PgDip   \n",
       "5997                       Master's of Computer Science   \n",
       "5998         Master's of Financial Technology (Fintech)   \n",
       "5999                                 Masters of Finance   \n",
       "\n",
       "                      universityName                           facultyName  \\\n",
       "0      Glasgow Caledonian University    School of Health and Life Sciences   \n",
       "1             Solvay Brussels School              Economics and Management   \n",
       "2              University of Reading                Henley Business School   \n",
       "3              King’s College London   Faculty of Life Sciences & Medicine   \n",
       "4                University of Leeds      Leeds University Business School   \n",
       "...                              ...                                   ...   \n",
       "5995         Oregon State University                    School of Business   \n",
       "5996           University of Glasgow          College of Arts & Humanities   \n",
       "5997        Harbour.Space University                    Masters Programmes   \n",
       "5998        Harbour.Space University                    Masters Programmes   \n",
       "5999         University of Hong Kong     Faculty of Business and Economics   \n",
       "\n",
       "     isItFullTime                                        description  \\\n",
       "0       Full time   Progress your career as a physiotherapist wit...   \n",
       "1       Full time   Programme overview   The Advanced Master in I...   \n",
       "2       Full time   Embark on a professional accounting career wi...   \n",
       "3       Full time   The Analytical Toxicology MSc is a unique stu...   \n",
       "4       Full time   Businesses and governments rely on sound fina...   \n",
       "...           ...                                                ...   \n",
       "5995    Full time   Master of Science in Business (MSB)   Our Mas...   \n",
       "5996    Full time   Material culture and artefact studies combine...   \n",
       "5997    Full time   Harbour.Space’s Master's of Computer Science ...   \n",
       "5998    Full time   Harbour.Space's FinTech Master programme     ...   \n",
       "5999    Full time   The HKU Business School Master of Finance (MF...   \n",
       "\n",
       "                startDate                                               fees  \\\n",
       "0      January, September   Please see the university website for further...   \n",
       "1               September                                           18.000 €   \n",
       "2               September   Please see the university website for further...   \n",
       "3              See Course   Please see the university website for further...   \n",
       "4               September   UK: £18,000 (Total)  International: £34,750 (...   \n",
       "...                   ...                                                ...   \n",
       "5995           See Course   Please see the university website for further...   \n",
       "5996            September   Please see the university website for further...   \n",
       "5997   September, January                                       €29,900/year   \n",
       "5998   September, January                                       €29,900/year   \n",
       "5999               August   Please see the university website for further...   \n",
       "\n",
       "                                      modality  \\\n",
       "0                                          MSc   \n",
       "1      MA MSc Other Pre-Masters Masters Module   \n",
       "2                                          MSc   \n",
       "3                                          MSc   \n",
       "4                                          MSc   \n",
       "...                                        ...   \n",
       "5995                                       MSc   \n",
       "5996                                 MSc PGDip   \n",
       "5997                                       MSc   \n",
       "5998                                   MBA MSc   \n",
       "5999                                       MSc   \n",
       "\n",
       "                                            duration        city  \\\n",
       "0             1 Year Full Time / 2-3 Years Part Time     Glasgow   \n",
       "1                                          10 months    Brussels   \n",
       "2                                   1 year full time     Reading   \n",
       "3                                Full-time: One year      London   \n",
       "4                                   1 year full time       Leeds   \n",
       "...                                              ...         ...   \n",
       "5995                                       12 months   Corvallis   \n",
       "5996   9-12 months full-time, 18-24 months part-time     Glasgow   \n",
       "5997                               1 year or 2 years   Barcelona   \n",
       "5998                                          1 Year   Barcelona   \n",
       "5999                             12 months full-time   Hong Kong   \n",
       "\n",
       "              country administration  \\\n",
       "0      United Kingdom      On Campus   \n",
       "1             Belgium      On Campus   \n",
       "2      United Kingdom      On Campus   \n",
       "3      United Kingdom      On Campus   \n",
       "4      United Kingdom      On Campus   \n",
       "...               ...            ...   \n",
       "5995              USA         Online   \n",
       "5996   United Kingdom      On Campus   \n",
       "5997            Spain      On Campus   \n",
       "5998            Spain      On Campus   \n",
       "5999        Hong Kong      On Campus   \n",
       "\n",
       "                                                    url  \n",
       "0      https://www.findamasters.com/masters-degrees/...  \n",
       "1      https://www.findamasters.com/masters-degrees/...  \n",
       "2      https://www.findamasters.com/masters-degrees/...  \n",
       "3      https://www.findamasters.com/masters-degrees/...  \n",
       "4      https://www.findamasters.com/masters-degrees/...  \n",
       "...                                                 ...  \n",
       "5995   https://www.findamasters.com/masters-degrees/...  \n",
       "5996   https://www.findamasters.com/masters-degrees/...  \n",
       "5997   https://www.findamasters.com/masters-degrees/...  \n",
       "5998   https://www.findamasters.com/masters-degrees/...  \n",
       "5999   https://www.findamasters.com/masters-degrees/...  \n",
       "\n",
       "[6000 rows x 13 columns]"
      ]
     },
     "execution_count": 2,
     "metadata": {},
     "output_type": "execute_result"
    }
   ],
   "source": [
    "#load dataset\n",
    "msc_degrees = pd.read_csv('msc_degrees.csv')\n",
    "\n",
    "#show dataset\n",
    "msc_degrees"
   ]
  },
  {
   "cell_type": "markdown",
   "metadata": {},
   "source": [
    "# 2. Search Engine"
   ]
  },
  {
   "cell_type": "markdown",
   "metadata": {},
   "source": [
    "## 2.0 Preprocessing"
   ]
  },
  {
   "cell_type": "markdown",
   "metadata": {},
   "source": [
    "### 2.0.0  Preprocessing the text"
   ]
  },
  {
   "cell_type": "markdown",
   "metadata": {},
   "source": [
    "We are required to preprocess all the informations retrieved for the courses, but since loosing punctuation in the url will lead us to loose its functionality, we won't preprocess that column (also, the info contained in the url aren't textual info). Moreover, we won't preprocess the fees column since there's a particoular preprocessing required for that column.\n",
    "\n",
    "The columns we decided to preprocess in this point and the operation we decided to perform are the following: \n",
    "- 'description' column: removing punctuation and stopwords, stemming\n",
    "- 'startDate' column: eliminating everithing that is not a month by using calendar.month_name "
   ]
  },
  {
   "cell_type": "markdown",
   "metadata": {},
   "source": [
    "Before being able to proceed, we had to download 'punkt' and 'stopwords' from nltk. "
   ]
  },
  {
   "cell_type": "code",
   "execution_count": 3,
   "metadata": {},
   "outputs": [],
   "source": [
    "#'descritpion' column \n",
    "stopw = stopwords.words('english')\n",
    "msc_degrees['description_clean'] = msc_degrees.description.apply(lambda row: nltk.word_tokenize(row)).apply(lambda row: ([nltk.PorterStemmer().stem(word) for word in row if (word.isalnum() and (not word in stopw))])) \n",
    "\n",
    "#'startDate' column\n",
    "msc_degrees['startDate_clean']= msc_degrees.startDate.apply(lambda row: nltk.word_tokenize(row)).apply(lambda row: ' '.join([month for month in row if month in calendar.month_name[1:]])) #[1:] beacuse calendar.month_name contains an empty name as first element"
   ]
  },
  {
   "cell_type": "markdown",
   "metadata": {},
   "source": [
    "### 2.0.1 - Preprocessing the fees columns"
   ]
  },
  {
   "cell_type": "markdown",
   "metadata": {},
   "source": [
    "First of all, we notice that there are a lot of courses for which we are addressed to the University's site to see fees' informations, and for these courses, th 'fees' columns says: *\"Please see the university website for further information on fees for this course.\"*. For this reason, we replace such stirng with an empty one under the *'fees_EUR'* column in order to speed up operations.   \n",
    "After applying only this operation, we checked and saw that in the 'fees_EUR' column there were now more than 4000 empty rows, making our operaion useful.\n",
    "\n",
    "Now let's get started with the rest of the preprocessing operations for this column. \n",
    "First of all, we need to retrieve all the money-related numeric values and their currencies. To do so, we used two different regex patterns, one identifing the fees written as *currency* *numeric value* (like £400, for example) and the other one identifieng the reverse couple, so *numeric value* *currency* (ex: 400£). \n",
    "For the currencies simbols we used the pattern found in the second answer gievn here https://stackoverflow.com/questions/25978771/what-is-regex-for-currency-symbol, then we added some currency abbreviations, starting from the most common then continuing by personally looking at the rows in the dataset that didn't give us any match to find if we were missing any value. \n",
    "While doing this procedure, we also noticed that between the ones withouth matches, we have a lot of rows structured like the following: \"*UK Fees: 2022/23 fees TBC*;2021/22 fees - 10400   International Fees: 2022/23 fees TBC*;2021/22 fees - 17900*\".\n",
    "\n",
    "For these lines, we checked the country (that is always UK, as we suspected), so we assumed that the currency corresponding to the fees values we see is £, even if not explicitly written. \n",
    "For these reasons, for these lines we procede in the following way:\n",
    "1. match 'UK FEES' at the beginnning of the line;\n",
    "2. search for all the numeric values, clean them by removing '.' and ',';\n",
    "3. save numerical values + £ in the 'fees_EUR' column. \n",
    "\n",
    "Moreover, in order not to match the numeric values corresponding to the academic years, we added a space at the end of each line and looked at numeric values or bounded by two blankspaces, or preceded by an asterisk or a blankspace and followed by a blankspace, which are the only two consistent structures we found for this type of rows.\n",
    "\n",
    "\n",
    "After retrieving the fees values, we needed to conver them all to a common currency (we chose euros), and return the maximum between them in order to retrieve the highest fee for the lines that have more than one suitable value. We first made the conversion then got the maximum (and not the opposite) since there are some rows where the fees have different currencies, so returning the maximum numeric value and then converting it to euros would be incorrect since we sould be compairing numbers that have different units of measurement.\n",
    "\n",
    "For the conversion, we need to convert all the currency symbols and abbreviations found in the dataset into their corresponding ISO currency. To do so, we created a dictionary  that has as keys the currency found in the dataset and as values their ISO correspondacy. This dictionary is loaded here as 'ISO_currency_dict' and has previously been saved into \"ISOcurrency.pkl\" file. Its creation can be seen in file \"files_creation\"."
   ]
  },
  {
   "cell_type": "code",
   "execution_count": 4,
   "metadata": {},
   "outputs": [],
   "source": [
    "# Load ISO currency converter dictionary\n",
    "with open('ISOcurrency.pkl', 'rb') as iso_file:\n",
    "    ISO_currency_dict = pickle.load(iso_file)\n",
    "\n",
    "iso_file.close()"
   ]
  },
  {
   "cell_type": "code",
   "execution_count": 5,
   "metadata": {},
   "outputs": [],
   "source": [
    "# 'fees_EUR' column init: same as fees, but without the \"Please see the university website for further information on fees for this course.\" lines\n",
    "msc_degrees['fees_EUR'] = msc_degrees.fees.apply(lambda row: row.strip().replace('Please see the university website for further information on fees for this course.', ''))\n",
    "\n",
    "#looking for fees numeric values \n",
    "''' defining regex patterns to look for:\n",
    "   pattern1: currency, numeric value\n",
    "   pattern2: numeric value, currency\n",
    "   pattern_UKfees: matches its content at the beginning of the string (see explaination above in markdown)'''\n",
    "\n",
    "pattern1 = re.compile(u'([$¢£¤¥֏؋৲৳৻૱௹฿៛\\u20a0-\\u20bd\\uff04\\uffe0\\uffe1\\uffe5\\uffe6]|'r'USD|EUR|GBP|JPY|INR|AUD|CAD|HK|euro|euros|US$|ISK|RMB|SEK|Euro|Euros|CHF|Eur)'r'( {0,1}[0-9]+[.,]{0,1}[0-9]+)+')\n",
    "pattern2 = re.compile(r'([0-9]+[.,]{0,1}[0-9]+)+ {0,1}'u'([$¢£¤¥֏؋৲৳৻૱௹฿៛\\u20a0-\\u20bd\\uff04\\uffe0\\uffe1\\uffe5\\uffe6]|'r'USD|EUR|GBP|JPY|INR|AUD|CAD|HK|euro|euros|US$|ISK|RMB|SEK|Euro|Euros|CHF|Eur)')\n",
    "pattern_UKfees = r'^UK Fees:'\n",
    "\n",
    "# retrieving fees values \n",
    "msc_degrees['fees_EUR'] = msc_degrees.fees_EUR.apply(lambda row: re.findall(pattern1, row) + [el[::-1] for el in re.findall(pattern2, row)] +     #all matches for pattern1 & pattern 2 in a list of tuples + reversing pattern2 matches\n",
    "                                                         [ ('£', numeric_value.strip()) for numeric_value in re.findall(r'[ *]{1}[0-9]+ ', row + ' ') if re.search(pattern_UKfees, row.lstrip()) ] #'UK Fees:' lines: matching and retrieving needed numeric values + storing them in appropriate way\n",
    "                                                         ).apply(lambda row: [(fees[0], fees[1].replace('.', '').replace(',','').replace('*','')) for fees in row])   #cleaning numeric values\n",
    "\n",
    "#getting change_rates to convert the fees\n",
    "change_rates = functions.get_changerates('EUR', ISO_currency_dict)\n",
    "\n",
    "# converting all the  & returning max\n",
    "msc_degrees['fees_EUR'] = msc_degrees.fees_EUR.apply(lambda row: [functions.currency_converter(el, 'EUR', ISO_currency_dict, change_rates) for el in row] #fees values in euros\n",
    "                                                       ).apply(functions.get_max_currency) # getting max value for each row; if it's empty, we'll have a nan \n"
   ]
  },
  {
   "cell_type": "markdown",
   "metadata": {},
   "source": [
    "After all the cleaning operations, the dataset now looks like this: "
   ]
  },
  {
   "cell_type": "code",
   "execution_count": 6,
   "metadata": {},
   "outputs": [
    {
     "data": {
      "text/html": [
       "<div>\n",
       "<style scoped>\n",
       "    .dataframe tbody tr th:only-of-type {\n",
       "        vertical-align: middle;\n",
       "    }\n",
       "\n",
       "    .dataframe tbody tr th {\n",
       "        vertical-align: top;\n",
       "    }\n",
       "\n",
       "    .dataframe thead th {\n",
       "        text-align: right;\n",
       "    }\n",
       "</style>\n",
       "<table border=\"1\" class=\"dataframe\">\n",
       "  <thead>\n",
       "    <tr style=\"text-align: right;\">\n",
       "      <th></th>\n",
       "      <th>courseName</th>\n",
       "      <th>universityName</th>\n",
       "      <th>facultyName</th>\n",
       "      <th>isItFullTime</th>\n",
       "      <th>description</th>\n",
       "      <th>startDate</th>\n",
       "      <th>fees</th>\n",
       "      <th>modality</th>\n",
       "      <th>duration</th>\n",
       "      <th>city</th>\n",
       "      <th>country</th>\n",
       "      <th>administration</th>\n",
       "      <th>url</th>\n",
       "      <th>description_clean</th>\n",
       "      <th>startDate_clean</th>\n",
       "      <th>fees_EUR</th>\n",
       "    </tr>\n",
       "  </thead>\n",
       "  <tbody>\n",
       "    <tr>\n",
       "      <th>0</th>\n",
       "      <td>Advanced Physiotherapy Practice - MSc</td>\n",
       "      <td>Glasgow Caledonian University</td>\n",
       "      <td>School of Health and Life Sciences</td>\n",
       "      <td>Full time</td>\n",
       "      <td>Progress your career as a physiotherapist wit...</td>\n",
       "      <td>January, September</td>\n",
       "      <td>Please see the university website for further...</td>\n",
       "      <td>MSc</td>\n",
       "      <td>1 Year Full Time / 2-3 Years Part Time</td>\n",
       "      <td>Glasgow</td>\n",
       "      <td>United Kingdom</td>\n",
       "      <td>On Campus</td>\n",
       "      <td>https://www.findamasters.com/masters-degrees/...</td>\n",
       "      <td>[progress, career, physiotherapist, within, nh...</td>\n",
       "      <td>January September</td>\n",
       "      <td>NaN</td>\n",
       "    </tr>\n",
       "    <tr>\n",
       "      <th>1</th>\n",
       "      <td>Advanced Master in Innovation &amp; Strategic Mana...</td>\n",
       "      <td>Solvay Brussels School</td>\n",
       "      <td>Economics and Management</td>\n",
       "      <td>Full time</td>\n",
       "      <td>Programme overview   The Advanced Master in I...</td>\n",
       "      <td>September</td>\n",
       "      <td>18.000 €</td>\n",
       "      <td>MA MSc Other Pre-Masters Masters Module</td>\n",
       "      <td>10 months</td>\n",
       "      <td>Brussels</td>\n",
       "      <td>Belgium</td>\n",
       "      <td>On Campus</td>\n",
       "      <td>https://www.findamasters.com/masters-degrees/...</td>\n",
       "      <td>[programm, overview, the, advanc, master, inno...</td>\n",
       "      <td>September</td>\n",
       "      <td>18000.0</td>\n",
       "    </tr>\n",
       "    <tr>\n",
       "      <th>2</th>\n",
       "      <td>Accounting, Financial Management and Digital B...</td>\n",
       "      <td>University of Reading</td>\n",
       "      <td>Henley Business School</td>\n",
       "      <td>Full time</td>\n",
       "      <td>Embark on a professional accounting career wi...</td>\n",
       "      <td>September</td>\n",
       "      <td>Please see the university website for further...</td>\n",
       "      <td>MSc</td>\n",
       "      <td>1 year full time</td>\n",
       "      <td>Reading</td>\n",
       "      <td>United Kingdom</td>\n",
       "      <td>On Campus</td>\n",
       "      <td>https://www.findamasters.com/masters-degrees/...</td>\n",
       "      <td>[embark, profession, account, career, academ, ...</td>\n",
       "      <td>September</td>\n",
       "      <td>NaN</td>\n",
       "    </tr>\n",
       "    <tr>\n",
       "      <th>3</th>\n",
       "      <td>Analytical Toxicology MSc</td>\n",
       "      <td>King’s College London</td>\n",
       "      <td>Faculty of Life Sciences &amp; Medicine</td>\n",
       "      <td>Full time</td>\n",
       "      <td>The Analytical Toxicology MSc is a unique stu...</td>\n",
       "      <td>See Course</td>\n",
       "      <td>Please see the university website for further...</td>\n",
       "      <td>MSc</td>\n",
       "      <td>Full-time: One year</td>\n",
       "      <td>London</td>\n",
       "      <td>United Kingdom</td>\n",
       "      <td>On Campus</td>\n",
       "      <td>https://www.findamasters.com/masters-degrees/...</td>\n",
       "      <td>[the, analyt, toxicolog, msc, uniqu, studi, co...</td>\n",
       "      <td></td>\n",
       "      <td>NaN</td>\n",
       "    </tr>\n",
       "    <tr>\n",
       "      <th>4</th>\n",
       "      <td>Accounting and Finance - MSc</td>\n",
       "      <td>University of Leeds</td>\n",
       "      <td>Leeds University Business School</td>\n",
       "      <td>Full time</td>\n",
       "      <td>Businesses and governments rely on sound fina...</td>\n",
       "      <td>September</td>\n",
       "      <td>UK: £18,000 (Total)  International: £34,750 (...</td>\n",
       "      <td>MSc</td>\n",
       "      <td>1 year full time</td>\n",
       "      <td>Leeds</td>\n",
       "      <td>United Kingdom</td>\n",
       "      <td>On Campus</td>\n",
       "      <td>https://www.findamasters.com/masters-degrees/...</td>\n",
       "      <td>[busi, govern, reli, sound, financi, knowledg,...</td>\n",
       "      <td>September</td>\n",
       "      <td>34750.0</td>\n",
       "    </tr>\n",
       "  </tbody>\n",
       "</table>\n",
       "</div>"
      ],
      "text/plain": [
       "                                          courseName  \\\n",
       "0              Advanced Physiotherapy Practice - MSc   \n",
       "1  Advanced Master in Innovation & Strategic Mana...   \n",
       "2  Accounting, Financial Management and Digital B...   \n",
       "3                          Analytical Toxicology MSc   \n",
       "4                       Accounting and Finance - MSc   \n",
       "\n",
       "                   universityName                           facultyName  \\\n",
       "0   Glasgow Caledonian University    School of Health and Life Sciences   \n",
       "1          Solvay Brussels School              Economics and Management   \n",
       "2           University of Reading                Henley Business School   \n",
       "3           King’s College London   Faculty of Life Sciences & Medicine   \n",
       "4             University of Leeds      Leeds University Business School   \n",
       "\n",
       "  isItFullTime                                        description  \\\n",
       "0    Full time   Progress your career as a physiotherapist wit...   \n",
       "1    Full time   Programme overview   The Advanced Master in I...   \n",
       "2    Full time   Embark on a professional accounting career wi...   \n",
       "3    Full time   The Analytical Toxicology MSc is a unique stu...   \n",
       "4    Full time   Businesses and governments rely on sound fina...   \n",
       "\n",
       "             startDate                                               fees  \\\n",
       "0   January, September   Please see the university website for further...   \n",
       "1            September                                           18.000 €   \n",
       "2            September   Please see the university website for further...   \n",
       "3           See Course   Please see the university website for further...   \n",
       "4            September   UK: £18,000 (Total)  International: £34,750 (...   \n",
       "\n",
       "                                   modality  \\\n",
       "0                                       MSc   \n",
       "1   MA MSc Other Pre-Masters Masters Module   \n",
       "2                                       MSc   \n",
       "3                                       MSc   \n",
       "4                                       MSc   \n",
       "\n",
       "                                  duration       city          country  \\\n",
       "0   1 Year Full Time / 2-3 Years Part Time    Glasgow   United Kingdom   \n",
       "1                                10 months   Brussels          Belgium   \n",
       "2                         1 year full time    Reading   United Kingdom   \n",
       "3                      Full-time: One year     London   United Kingdom   \n",
       "4                         1 year full time      Leeds   United Kingdom   \n",
       "\n",
       "  administration                                                url  \\\n",
       "0      On Campus   https://www.findamasters.com/masters-degrees/...   \n",
       "1      On Campus   https://www.findamasters.com/masters-degrees/...   \n",
       "2      On Campus   https://www.findamasters.com/masters-degrees/...   \n",
       "3      On Campus   https://www.findamasters.com/masters-degrees/...   \n",
       "4      On Campus   https://www.findamasters.com/masters-degrees/...   \n",
       "\n",
       "                                   description_clean    startDate_clean  \\\n",
       "0  [progress, career, physiotherapist, within, nh...  January September   \n",
       "1  [programm, overview, the, advanc, master, inno...          September   \n",
       "2  [embark, profession, account, career, academ, ...          September   \n",
       "3  [the, analyt, toxicolog, msc, uniqu, studi, co...                      \n",
       "4  [busi, govern, reli, sound, financi, knowledg,...          September   \n",
       "\n",
       "   fees_EUR  \n",
       "0       NaN  \n",
       "1   18000.0  \n",
       "2       NaN  \n",
       "3       NaN  \n",
       "4   34750.0  "
      ]
     },
     "execution_count": 6,
     "metadata": {},
     "output_type": "execute_result"
    }
   ],
   "source": [
    "msc_degrees.head(5)"
   ]
  },
  {
   "cell_type": "markdown",
   "metadata": {},
   "source": [
    "## 2.1 Conjunctive query "
   ]
  },
  {
   "cell_type": "markdown",
   "metadata": {},
   "source": [
    "### 2.1.1 Create your index!"
   ]
  },
  {
   "cell_type": "markdown",
   "metadata": {},
   "source": [
    "In this section, we are required to create the vocabulary and the inverted index. \n",
    "The code can be found in the *files_creation.py* file. \n",
    "\n",
    "**Vocabulary** \n",
    "\n",
    "In order to create the dictionary containing the vocabulary and save it in an external file, we first create a list, *vocabulary_list*, containing all the words in the '*description_clean*' column of the dataset, then we set each word's *term_id* as its implicit index in this list. Then we zip the previous list with another explicitly containg the indeces we choose and we create a dictionary from a list created converting this zip object. After this dictionary is created, we save it as a *.pkl* file.\n",
    "\n",
    "**Inverted index**\n",
    "\n",
    "In order to create the dictionary storing the inverted index of our data, we leverage the vocabulary that we have just created: after initializing an empty dictionary as our inverted index dictionary, we go through the terms in the vocabulary with a for loop and for each term in the vocabulary we first get the document ids (which are the indeces with which they appear in the dataset) for the documents that contain the term, and then we store them in a list; immediatly after, still inside the for loop, we update the inverted index vocabulary adding a new element to it, which has as key the term id and as value the list we just created. To create such list, we use a lambda function that retrieves the needed values.\n"
   ]
  },
  {
   "cell_type": "markdown",
   "metadata": {},
   "source": [
    "### 2.1.2 Executing the query"
   ]
  },
  {
   "cell_type": "markdown",
   "metadata": {},
   "source": [
    "First of all, we need to load the files for the query execution"
   ]
  },
  {
   "cell_type": "code",
   "execution_count": 7,
   "metadata": {},
   "outputs": [],
   "source": [
    "# Read dictionary pkl file\n",
    "with open('vocabulary.pkl', 'rb') as v_file:\n",
    "    vocabulary_dict = pickle.load(v_file)\n",
    "\n",
    "v_file.close()\n",
    "\n",
    "#Read inverted_index pkl file\n",
    "with open('inverted_index.pkl', 'rb') as invidx_file:\n",
    "    inverted_index = pickle.load(invidx_file)\n",
    "\n",
    "invidx_file.close()"
   ]
  },
  {
   "cell_type": "markdown",
   "metadata": {},
   "source": [
    "Now we have to preprocess the query in the same way we preprocessed the 'description' column to get a match: we define a function that does that, *preprocess_query*, then we apply it to the query.\n",
    "After this, we use our \"search engine function\", *get_documents_conjunctive_query*, to get the index of the documents ids in which the words appear and return list of such documents ids.    \n",
    "\n",
    "The function first checks if all the words in the query appear in the vocabulary, then deletes the repetitions in the query and gets the index of these words.\n",
    "At this point, we store all the documents that contain at least one word in the query as a list of sets by getting the values of the invertd index dictionary for each word of the query and we repetedly make the intersection between this lists, in order to get the documents that contain all the wors of the query, and at each step we check if we end up having an empty set, meaning that there are no documents that satisfy our query, and in this case we stop the process and return an empty list. On the other hand, if we are able to get to the end of the process without getting an empty set, we return the list of the documents that satisfy the query."
   ]
  },
  {
   "cell_type": "code",
   "execution_count": 8,
   "metadata": {},
   "outputs": [
    {
     "name": "stdout",
     "output_type": "stream",
     "text": [
      "Query: advanced knowledge\n",
      "Results:\n"
     ]
    },
    {
     "data": {
      "text/html": [
       "<div>\n",
       "<style scoped>\n",
       "    .dataframe tbody tr th:only-of-type {\n",
       "        vertical-align: middle;\n",
       "    }\n",
       "\n",
       "    .dataframe tbody tr th {\n",
       "        vertical-align: top;\n",
       "    }\n",
       "\n",
       "    .dataframe thead th {\n",
       "        text-align: right;\n",
       "    }\n",
       "</style>\n",
       "<table border=\"1\" class=\"dataframe\">\n",
       "  <thead>\n",
       "    <tr style=\"text-align: right;\">\n",
       "      <th></th>\n",
       "      <th>courseName</th>\n",
       "      <th>universityName</th>\n",
       "      <th>description</th>\n",
       "      <th>url</th>\n",
       "    </tr>\n",
       "  </thead>\n",
       "  <tbody>\n",
       "    <tr>\n",
       "      <th>4097</th>\n",
       "      <td>Global Meetings and Events Management MSc / PGDip</td>\n",
       "      <td>University College Birmingham</td>\n",
       "      <td>Become part of an events industry worth an es...</td>\n",
       "      <td>https://www.findamasters.com/masters-degrees/...</td>\n",
       "    </tr>\n",
       "    <tr>\n",
       "      <th>3</th>\n",
       "      <td>Analytical Toxicology MSc</td>\n",
       "      <td>King’s College London</td>\n",
       "      <td>The Analytical Toxicology MSc is a unique stu...</td>\n",
       "      <td>https://www.findamasters.com/masters-degrees/...</td>\n",
       "    </tr>\n",
       "    <tr>\n",
       "      <th>4</th>\n",
       "      <td>Accounting and Finance - MSc</td>\n",
       "      <td>University of Leeds</td>\n",
       "      <td>Businesses and governments rely on sound fina...</td>\n",
       "      <td>https://www.findamasters.com/masters-degrees/...</td>\n",
       "    </tr>\n",
       "    <tr>\n",
       "      <th>2055</th>\n",
       "      <td>Clinical Research - MSc</td>\n",
       "      <td>Cardiff University</td>\n",
       "      <td>Why study this course    This part-time, dist...</td>\n",
       "      <td>https://www.findamasters.com/masters-degrees/...</td>\n",
       "    </tr>\n",
       "    <tr>\n",
       "      <th>7</th>\n",
       "      <td>Addictions MSc</td>\n",
       "      <td>King’s College London</td>\n",
       "      <td>Join us for an online session for prospective...</td>\n",
       "      <td>https://www.findamasters.com/masters-degrees/...</td>\n",
       "    </tr>\n",
       "    <tr>\n",
       "      <th>...</th>\n",
       "      <td>...</td>\n",
       "      <td>...</td>\n",
       "      <td>...</td>\n",
       "      <td>...</td>\n",
       "    </tr>\n",
       "    <tr>\n",
       "      <th>1998</th>\n",
       "      <td>Clinical Geriatrics - MSc</td>\n",
       "      <td>Cardiff University</td>\n",
       "      <td>Why study this course    The MSc Clinical Ger...</td>\n",
       "      <td>https://www.findamasters.com/masters-degrees/...</td>\n",
       "    </tr>\n",
       "    <tr>\n",
       "      <th>2020</th>\n",
       "      <td>Clinical Neuropsychology - MSc</td>\n",
       "      <td>University of Bristol</td>\n",
       "      <td>Professional programmes in Clinical Neuropsyc...</td>\n",
       "      <td>https://www.findamasters.com/masters-degrees/...</td>\n",
       "    </tr>\n",
       "    <tr>\n",
       "      <th>2028</th>\n",
       "      <td>Clinical Ophthalmic Practice MSc</td>\n",
       "      <td>University College London</td>\n",
       "      <td>Register your interest in graduate study at U...</td>\n",
       "      <td>https://www.findamasters.com/masters-degrees/...</td>\n",
       "    </tr>\n",
       "    <tr>\n",
       "      <th>2046</th>\n",
       "      <td>Clinical Pharmacy - MSc</td>\n",
       "      <td>University of Sunderland</td>\n",
       "      <td>The Clinical Pharmacy MSc has been designed t...</td>\n",
       "      <td>https://www.findamasters.com/masters-degrees/...</td>\n",
       "    </tr>\n",
       "    <tr>\n",
       "      <th>2047</th>\n",
       "      <td>Clinical Optometry - MSc</td>\n",
       "      <td>Cardiff University</td>\n",
       "      <td>Why study this course    The aim of this prog...</td>\n",
       "      <td>https://www.findamasters.com/masters-degrees/...</td>\n",
       "    </tr>\n",
       "  </tbody>\n",
       "</table>\n",
       "<p>480 rows × 4 columns</p>\n",
       "</div>"
      ],
      "text/plain": [
       "                                             courseName  \\\n",
       "4097  Global Meetings and Events Management MSc / PGDip   \n",
       "3                             Analytical Toxicology MSc   \n",
       "4                          Accounting and Finance - MSc   \n",
       "2055                            Clinical Research - MSc   \n",
       "7                                        Addictions MSc   \n",
       "...                                                 ...   \n",
       "1998                          Clinical Geriatrics - MSc   \n",
       "2020                     Clinical Neuropsychology - MSc   \n",
       "2028                   Clinical Ophthalmic Practice MSc   \n",
       "2046                            Clinical Pharmacy - MSc   \n",
       "2047                           Clinical Optometry - MSc   \n",
       "\n",
       "                      universityName  \\\n",
       "4097   University College Birmingham   \n",
       "3              King’s College London   \n",
       "4                University of Leeds   \n",
       "2055              Cardiff University   \n",
       "7              King’s College London   \n",
       "...                              ...   \n",
       "1998              Cardiff University   \n",
       "2020           University of Bristol   \n",
       "2028       University College London   \n",
       "2046        University of Sunderland   \n",
       "2047              Cardiff University   \n",
       "\n",
       "                                            description  \\\n",
       "4097   Become part of an events industry worth an es...   \n",
       "3      The Analytical Toxicology MSc is a unique stu...   \n",
       "4      Businesses and governments rely on sound fina...   \n",
       "2055   Why study this course    This part-time, dist...   \n",
       "7      Join us for an online session for prospective...   \n",
       "...                                                 ...   \n",
       "1998   Why study this course    The MSc Clinical Ger...   \n",
       "2020   Professional programmes in Clinical Neuropsyc...   \n",
       "2028   Register your interest in graduate study at U...   \n",
       "2046   The Clinical Pharmacy MSc has been designed t...   \n",
       "2047   Why study this course    The aim of this prog...   \n",
       "\n",
       "                                                    url  \n",
       "4097   https://www.findamasters.com/masters-degrees/...  \n",
       "3      https://www.findamasters.com/masters-degrees/...  \n",
       "4      https://www.findamasters.com/masters-degrees/...  \n",
       "2055   https://www.findamasters.com/masters-degrees/...  \n",
       "7      https://www.findamasters.com/masters-degrees/...  \n",
       "...                                                 ...  \n",
       "1998   https://www.findamasters.com/masters-degrees/...  \n",
       "2020   https://www.findamasters.com/masters-degrees/...  \n",
       "2028   https://www.findamasters.com/masters-degrees/...  \n",
       "2046   https://www.findamasters.com/masters-degrees/...  \n",
       "2047   https://www.findamasters.com/masters-degrees/...  \n",
       "\n",
       "[480 rows x 4 columns]"
      ]
     },
     "execution_count": 8,
     "metadata": {},
     "output_type": "execute_result"
    }
   ],
   "source": [
    "#getting the query from input and stripping it\n",
    "query = input('Type to search:').strip()\n",
    "\n",
    "#show the query \n",
    "print(\"Query:\", query)\n",
    "\n",
    "#preprocessing the query\n",
    "query = functions.preprocess_query(query)\n",
    "\n",
    "#searching documents\n",
    "doc_sat_query = functions.get_documents_conjunctive_query(query, vocabulary_dict, inverted_index)\n",
    "\n",
    "#Results visualizatioin\n",
    "if doc_sat_query == []:\n",
    "    print(\"This query didn't produce any result\")\n",
    "else: \n",
    "    print('Results:')\n",
    "\n",
    "results_columns = ['courseName', 'universityName', 'description', 'url']\n",
    "msc_degrees.loc[doc_sat_query, results_columns]"
   ]
  },
  {
   "cell_type": "markdown",
   "metadata": {},
   "source": [
    "Checking if we have the TAs' restults."
   ]
  },
  {
   "cell_type": "code",
   "execution_count": 9,
   "metadata": {},
   "outputs": [
    {
     "data": {
      "text/html": [
       "<div>\n",
       "<style scoped>\n",
       "    .dataframe tbody tr th:only-of-type {\n",
       "        vertical-align: middle;\n",
       "    }\n",
       "\n",
       "    .dataframe tbody tr th {\n",
       "        vertical-align: top;\n",
       "    }\n",
       "\n",
       "    .dataframe thead th {\n",
       "        text-align: right;\n",
       "    }\n",
       "</style>\n",
       "<table border=\"1\" class=\"dataframe\">\n",
       "  <thead>\n",
       "    <tr style=\"text-align: right;\">\n",
       "      <th></th>\n",
       "      <th>courseName</th>\n",
       "      <th>universityName</th>\n",
       "      <th>description</th>\n",
       "      <th>url</th>\n",
       "    </tr>\n",
       "  </thead>\n",
       "  <tbody>\n",
       "    <tr>\n",
       "      <th>3</th>\n",
       "      <td>Analytical Toxicology MSc</td>\n",
       "      <td>King’s College London</td>\n",
       "      <td>The Analytical Toxicology MSc is a unique stu...</td>\n",
       "      <td>https://www.findamasters.com/masters-degrees/...</td>\n",
       "    </tr>\n",
       "    <tr>\n",
       "      <th>4</th>\n",
       "      <td>Accounting and Finance - MSc</td>\n",
       "      <td>University of Leeds</td>\n",
       "      <td>Businesses and governments rely on sound fina...</td>\n",
       "      <td>https://www.findamasters.com/masters-degrees/...</td>\n",
       "    </tr>\n",
       "    <tr>\n",
       "      <th>7</th>\n",
       "      <td>Addictions MSc</td>\n",
       "      <td>King’s College London</td>\n",
       "      <td>Join us for an online session for prospective...</td>\n",
       "      <td>https://www.findamasters.com/masters-degrees/...</td>\n",
       "    </tr>\n",
       "    <tr>\n",
       "      <th>527</th>\n",
       "      <td>Accounting and Finance - MSc</td>\n",
       "      <td>University of Sussex</td>\n",
       "      <td>On this MSc you’ll advance your accounting an...</td>\n",
       "      <td>https://www.findamasters.com/masters-degrees/...</td>\n",
       "    </tr>\n",
       "    <tr>\n",
       "      <th>1011</th>\n",
       "      <td>Allergy - MSc/PGDip/PGCert</td>\n",
       "      <td>Imperial College London</td>\n",
       "      <td>Allergy is an increasing global health proble...</td>\n",
       "      <td>https://www.findamasters.com/masters-degrees/...</td>\n",
       "    </tr>\n",
       "  </tbody>\n",
       "</table>\n",
       "</div>"
      ],
      "text/plain": [
       "                        courseName            universityName  \\\n",
       "3        Analytical Toxicology MSc     King’s College London   \n",
       "4     Accounting and Finance - MSc       University of Leeds   \n",
       "7                   Addictions MSc     King’s College London   \n",
       "527   Accounting and Finance - MSc      University of Sussex   \n",
       "1011    Allergy - MSc/PGDip/PGCert   Imperial College London   \n",
       "\n",
       "                                            description  \\\n",
       "3      The Analytical Toxicology MSc is a unique stu...   \n",
       "4      Businesses and governments rely on sound fina...   \n",
       "7      Join us for an online session for prospective...   \n",
       "527    On this MSc you’ll advance your accounting an...   \n",
       "1011   Allergy is an increasing global health proble...   \n",
       "\n",
       "                                                    url  \n",
       "3      https://www.findamasters.com/masters-degrees/...  \n",
       "4      https://www.findamasters.com/masters-degrees/...  \n",
       "7      https://www.findamasters.com/masters-degrees/...  \n",
       "527    https://www.findamasters.com/masters-degrees/...  \n",
       "1011   https://www.findamasters.com/masters-degrees/...  "
      ]
     },
     "execution_count": 9,
     "metadata": {},
     "output_type": "execute_result"
    }
   ],
   "source": [
    "res = msc_degrees.loc[doc_sat_query, results_columns]\n",
    "names = ['Analytical Toxicology MSc', 'Addictions MSc', 'Accounting and Finance - MSc', 'Allergy - MSc/PGDip/PGCert']\n",
    "res[res['courseName'].isin(names)]"
   ]
  },
  {
   "cell_type": "markdown",
   "metadata": {},
   "source": [
    "## 2.2 Conjunctive query & Ranking score"
   ]
  },
  {
   "cell_type": "markdown",
   "metadata": {},
   "source": [
    "### 2.2.1 Inverted index - second version"
   ]
  },
  {
   "cell_type": "markdown",
   "metadata": {},
   "source": [
    "The code for this section can be found in the *files_creation.py* file. \n",
    "\n",
    "In order to create the inverted_index_tfidf dictionary, let us first observe that the ids we gave to the terms in the vocabulary are the indeces in the previous vocabulary list sorted by alphabetial order. When computing the tfidf score, by looking at a dataframe computed by the matrix, by changing the names of the columns we saw that the terms wre stored in alhabetical order, leading us to be able to use the tfidf matrix indeces to retrieve the tfidf score for every couple term-document we were interested in. Besides, we used the old inverted_index dictionary to create the new one: this way, when accessing each term's values in the \"old\" inverted index dictionary (remember that the inverted index dictionary has the term ids as keys), we already have the list of the documents in wich the term appears and we don't have to compute it again. In practice, we access every element in the old dictionary and update the new one (that has previously been initialized as an empty one) adding the key corrsponding to the term id we are examinating and setting its value to a dictionary itself containing the key-value pairs (document id, tfidf of the document vs the term) for each document in the list of the old inverted index dictionary."
   ]
  },
  {
   "cell_type": "markdown",
   "metadata": {},
   "source": [
    "### 2.2.2 Execute the query"
   ]
  },
  {
   "cell_type": "markdown",
   "metadata": {},
   "source": [
    "In order to get the top-k documents regarding the cosine similarity with the query, when defining the \"search engine\" function we decided to: \n",
    "1. preprocess the query (outside the funciton);\n",
    "2. get all the documents containing the query by using the first search engine (note that if a document doesn't contain the query, its cosine similarity with the query is zero);\n",
    "2. check if there are an documents that satysfy the query\n",
    "3. if there are, compute the cosine similarity of these retrived documents with the preprocessed version of the query;\n",
    "4.  return the top-k documents as a list leveraging the pre-implemanted methods in the *heapq* library in python;\n",
    "5. show  the results in a dataframe."
   ]
  },
  {
   "cell_type": "code",
   "execution_count": 10,
   "metadata": {},
   "outputs": [],
   "source": [
    "#Loading tfidf inverted index pkl file\n",
    "with open('inverted_index_tfidf.pkl', 'rb') as invidx_file:\n",
    "    inverted_index_tfidf = pickle.load(invidx_file)\n",
    "\n",
    "invidx_file.close()"
   ]
  },
  {
   "cell_type": "code",
   "execution_count": 11,
   "metadata": {},
   "outputs": [
    {
     "name": "stdout",
     "output_type": "stream",
     "text": [
      "Query: advanced knowledge\n",
      "Results:\n"
     ]
    },
    {
     "data": {
      "text/html": [
       "<div>\n",
       "<style scoped>\n",
       "    .dataframe tbody tr th:only-of-type {\n",
       "        vertical-align: middle;\n",
       "    }\n",
       "\n",
       "    .dataframe tbody tr th {\n",
       "        vertical-align: top;\n",
       "    }\n",
       "\n",
       "    .dataframe thead th {\n",
       "        text-align: right;\n",
       "    }\n",
       "</style>\n",
       "<table border=\"1\" class=\"dataframe\">\n",
       "  <thead>\n",
       "    <tr style=\"text-align: right;\">\n",
       "      <th></th>\n",
       "      <th>courseName</th>\n",
       "      <th>universityName</th>\n",
       "      <th>description</th>\n",
       "      <th>url</th>\n",
       "      <th>cossim</th>\n",
       "    </tr>\n",
       "  </thead>\n",
       "  <tbody>\n",
       "    <tr>\n",
       "      <th>645</th>\n",
       "      <td>Advanced Clinical Practice - MSc</td>\n",
       "      <td>Canterbury Christ Church University</td>\n",
       "      <td>Gain the knowledge and skills needed to becom...</td>\n",
       "      <td>https://www.findamasters.com/masters-degrees/...</td>\n",
       "      <td>0.371383</td>\n",
       "    </tr>\n",
       "    <tr>\n",
       "      <th>752</th>\n",
       "      <td>Advanced Computing MSc</td>\n",
       "      <td>King’s College London</td>\n",
       "      <td>Our Advanced Computing MSc provides knowledge...</td>\n",
       "      <td>https://www.findamasters.com/masters-degrees/...</td>\n",
       "      <td>0.365123</td>\n",
       "    </tr>\n",
       "    <tr>\n",
       "      <th>923</th>\n",
       "      <td>Advancing Practice - MSc</td>\n",
       "      <td>University of Northampton</td>\n",
       "      <td>Our MSc Advancing Practice awards support the...</td>\n",
       "      <td>https://www.findamasters.com/masters-degrees/...</td>\n",
       "      <td>0.357807</td>\n",
       "    </tr>\n",
       "    <tr>\n",
       "      <th>785</th>\n",
       "      <td>Advanced Healthcare Practice - MSc</td>\n",
       "      <td>Cardiff University</td>\n",
       "      <td>Why study this course    Our MSc Advanced Hea...</td>\n",
       "      <td>https://www.findamasters.com/masters-degrees/...</td>\n",
       "      <td>0.355279</td>\n",
       "    </tr>\n",
       "    <tr>\n",
       "      <th>702</th>\n",
       "      <td>Advanced Clinical Practice MSc</td>\n",
       "      <td>University of Greenwich</td>\n",
       "      <td>Learn essential strategies and prepare for le...</td>\n",
       "      <td>https://www.findamasters.com/masters-degrees/...</td>\n",
       "      <td>0.351817</td>\n",
       "    </tr>\n",
       "    <tr>\n",
       "      <th>834</th>\n",
       "      <td>Advanced Mechanical Engineering - MSc (Eng)</td>\n",
       "      <td>University of Leeds</td>\n",
       "      <td>This course offers a broad range of advanced ...</td>\n",
       "      <td>https://www.findamasters.com/masters-degrees/...</td>\n",
       "      <td>0.333596</td>\n",
       "    </tr>\n",
       "    <tr>\n",
       "      <th>664</th>\n",
       "      <td>Advanced Clinical Practice (AHP) - MSc/PGDip/P...</td>\n",
       "      <td>Bangor University</td>\n",
       "      <td>The programme has been developed to enhance p...</td>\n",
       "      <td>https://www.findamasters.com/masters-degrees/...</td>\n",
       "      <td>0.308888</td>\n",
       "    </tr>\n",
       "    <tr>\n",
       "      <th>5260</th>\n",
       "      <td>Management and Digital Business (with Advanced...</td>\n",
       "      <td>Liverpool John Moores University</td>\n",
       "      <td>This Advanced Practice course provides an in-...</td>\n",
       "      <td>https://www.findamasters.com/masters-degrees/...</td>\n",
       "      <td>0.306742</td>\n",
       "    </tr>\n",
       "    <tr>\n",
       "      <th>620</th>\n",
       "      <td>Advanced Biomedical Engineering - MSc</td>\n",
       "      <td>University of Bradford</td>\n",
       "      <td>Biomedical engineering is a fast evolving int...</td>\n",
       "      <td>https://www.findamasters.com/masters-degrees/...</td>\n",
       "      <td>0.304601</td>\n",
       "    </tr>\n",
       "    <tr>\n",
       "      <th>897</th>\n",
       "      <td>Advanced Professional Practice (MSc)</td>\n",
       "      <td>University of Gloucestershire</td>\n",
       "      <td>Our lecturers are research active experts who...</td>\n",
       "      <td>https://www.findamasters.com/masters-degrees/...</td>\n",
       "      <td>0.301036</td>\n",
       "    </tr>\n",
       "  </tbody>\n",
       "</table>\n",
       "</div>"
      ],
      "text/plain": [
       "                                             courseName  \\\n",
       "645                    Advanced Clinical Practice - MSc   \n",
       "752                              Advanced Computing MSc   \n",
       "923                            Advancing Practice - MSc   \n",
       "785                  Advanced Healthcare Practice - MSc   \n",
       "702                      Advanced Clinical Practice MSc   \n",
       "834         Advanced Mechanical Engineering - MSc (Eng)   \n",
       "664   Advanced Clinical Practice (AHP) - MSc/PGDip/P...   \n",
       "5260  Management and Digital Business (with Advanced...   \n",
       "620               Advanced Biomedical Engineering - MSc   \n",
       "897                Advanced Professional Practice (MSc)   \n",
       "\n",
       "                            universityName  \\\n",
       "645    Canterbury Christ Church University   \n",
       "752                  King’s College London   \n",
       "923              University of Northampton   \n",
       "785                     Cardiff University   \n",
       "702                University of Greenwich   \n",
       "834                    University of Leeds   \n",
       "664                      Bangor University   \n",
       "5260      Liverpool John Moores University   \n",
       "620                 University of Bradford   \n",
       "897          University of Gloucestershire   \n",
       "\n",
       "                                            description  \\\n",
       "645    Gain the knowledge and skills needed to becom...   \n",
       "752    Our Advanced Computing MSc provides knowledge...   \n",
       "923    Our MSc Advancing Practice awards support the...   \n",
       "785    Why study this course    Our MSc Advanced Hea...   \n",
       "702    Learn essential strategies and prepare for le...   \n",
       "834    This course offers a broad range of advanced ...   \n",
       "664    The programme has been developed to enhance p...   \n",
       "5260   This Advanced Practice course provides an in-...   \n",
       "620    Biomedical engineering is a fast evolving int...   \n",
       "897    Our lecturers are research active experts who...   \n",
       "\n",
       "                                                    url    cossim  \n",
       "645    https://www.findamasters.com/masters-degrees/...  0.371383  \n",
       "752    https://www.findamasters.com/masters-degrees/...  0.365123  \n",
       "923    https://www.findamasters.com/masters-degrees/...  0.357807  \n",
       "785    https://www.findamasters.com/masters-degrees/...  0.355279  \n",
       "702    https://www.findamasters.com/masters-degrees/...  0.351817  \n",
       "834    https://www.findamasters.com/masters-degrees/...  0.333596  \n",
       "664    https://www.findamasters.com/masters-degrees/...  0.308888  \n",
       "5260   https://www.findamasters.com/masters-degrees/...  0.306742  \n",
       "620    https://www.findamasters.com/masters-degrees/...  0.304601  \n",
       "897    https://www.findamasters.com/masters-degrees/...  0.301036  "
      ]
     },
     "execution_count": 11,
     "metadata": {},
     "output_type": "execute_result"
    }
   ],
   "source": [
    "#getting query \n",
    "query = input('Type to search: ')\n",
    "\n",
    "#show the query \n",
    "print(\"Query:\", query)\n",
    "\n",
    "#preprocessing query\n",
    "query = functions.preprocess_query(query)\n",
    "\n",
    "#get search results\n",
    "topkresults_idx_cossim = functions.search_engine_tfidf(query, inverted_index_tfidf, vocabulary_dict )\n",
    "\n",
    "#showing results\n",
    "if topkresults_idx_cossim == []:\n",
    "    print(\"There are no results for this query\")\n",
    "    res = ''\n",
    "else: \n",
    "    print('Results:')\n",
    "    results_columns = ['courseName', 'universityName', 'description', 'url']\n",
    "    res = msc_degrees.loc[[el[0] for el in topkresults_idx_cossim], results_columns ]\n",
    "    res['cossim'] = [el[1][0] for el in topkresults_idx_cossim] #new column of the dataset with the results to show the cosine similarity\n",
    "\n",
    "res"
   ]
  },
  {
   "cell_type": "markdown",
   "metadata": {},
   "source": [
    "# 3. Define a new score!"
   ]
  },
  {
   "cell_type": "code",
   "execution_count": 12,
   "metadata": {},
   "outputs": [
    {
     "data": {
      "text/html": [
       "<div>\n",
       "<style scoped>\n",
       "    .dataframe tbody tr th:only-of-type {\n",
       "        vertical-align: middle;\n",
       "    }\n",
       "\n",
       "    .dataframe tbody tr th {\n",
       "        vertical-align: top;\n",
       "    }\n",
       "\n",
       "    .dataframe thead th {\n",
       "        text-align: right;\n",
       "    }\n",
       "</style>\n",
       "<table border=\"1\" class=\"dataframe\">\n",
       "  <thead>\n",
       "    <tr style=\"text-align: right;\">\n",
       "      <th></th>\n",
       "      <th>courseName</th>\n",
       "      <th>universityName</th>\n",
       "      <th>description</th>\n",
       "      <th>url</th>\n",
       "      <th>new_score</th>\n",
       "    </tr>\n",
       "  </thead>\n",
       "  <tbody>\n",
       "    <tr>\n",
       "      <th>2705</th>\n",
       "      <td>Data Science with Artificial Intelligence MSc</td>\n",
       "      <td>University of Exeter</td>\n",
       "      <td>Overview    Designed for those interested in ...</td>\n",
       "      <td>https://www.findamasters.com/masters-degrees/...</td>\n",
       "      <td>1.000000</td>\n",
       "    </tr>\n",
       "    <tr>\n",
       "      <th>739</th>\n",
       "      <td>Advanced Computer Science MSc</td>\n",
       "      <td>Swansea University</td>\n",
       "      <td>Advanced Computer Science Course Overview   T...</td>\n",
       "      <td>https://www.findamasters.com/masters-degrees/...</td>\n",
       "      <td>0.694697</td>\n",
       "    </tr>\n",
       "    <tr>\n",
       "      <th>238</th>\n",
       "      <td>MSc - Management</td>\n",
       "      <td>Durham University</td>\n",
       "      <td>Our  MSc Management  is ranked 5th in the UK ...</td>\n",
       "      <td>https://www.findamasters.com/masters-degrees/...</td>\n",
       "      <td>0.653119</td>\n",
       "    </tr>\n",
       "    <tr>\n",
       "      <th>1896</th>\n",
       "      <td>Civil Engineering - MSc</td>\n",
       "      <td>Abertay University</td>\n",
       "      <td>Our Civil Engineering MSc will give you a com...</td>\n",
       "      <td>https://www.findamasters.com/masters-degrees/...</td>\n",
       "      <td>0.638602</td>\n",
       "    </tr>\n",
       "    <tr>\n",
       "      <th>5267</th>\n",
       "      <td>Management in Construction (MSc)</td>\n",
       "      <td>Kingston University</td>\n",
       "      <td>This industry-accredited course is suitable f...</td>\n",
       "      <td>https://www.findamasters.com/masters-degrees/...</td>\n",
       "      <td>0.638602</td>\n",
       "    </tr>\n",
       "    <tr>\n",
       "      <th>834</th>\n",
       "      <td>Advanced Mechanical Engineering - MSc (Eng)</td>\n",
       "      <td>University of Leeds</td>\n",
       "      <td>This course offers a broad range of advanced ...</td>\n",
       "      <td>https://www.findamasters.com/masters-degrees/...</td>\n",
       "      <td>0.637356</td>\n",
       "    </tr>\n",
       "    <tr>\n",
       "      <th>1892</th>\n",
       "      <td>Civil Engineering - MSc</td>\n",
       "      <td>University of Glasgow</td>\n",
       "      <td>Those who study the Masters in Civil Engineer...</td>\n",
       "      <td>https://www.findamasters.com/masters-degrees/...</td>\n",
       "      <td>0.633880</td>\n",
       "    </tr>\n",
       "    <tr>\n",
       "      <th>1843</th>\n",
       "      <td>Chemical Science (MSc)</td>\n",
       "      <td>University of St Andrews</td>\n",
       "      <td>The MSc in Chemical Science is a one-year tau...</td>\n",
       "      <td>https://www.findamasters.com/masters-degrees/...</td>\n",
       "      <td>0.631789</td>\n",
       "    </tr>\n",
       "    <tr>\n",
       "      <th>1286</th>\n",
       "      <td>Artificial Intelligence (MSc)</td>\n",
       "      <td>Queen’s University Belfast</td>\n",
       "      <td>In the last decade the advances in Artificial...</td>\n",
       "      <td>https://www.findamasters.com/masters-degrees/...</td>\n",
       "      <td>0.630749</td>\n",
       "    </tr>\n",
       "    <tr>\n",
       "      <th>773</th>\n",
       "      <td>Advanced Engineering Design MSc</td>\n",
       "      <td>Brunel University London</td>\n",
       "      <td>Ask Brunel     Our Advanced Engineering Desig...</td>\n",
       "      <td>https://www.findamasters.com/masters-degrees/...</td>\n",
       "      <td>0.628131</td>\n",
       "    </tr>\n",
       "  </tbody>\n",
       "</table>\n",
       "</div>"
      ],
      "text/plain": [
       "                                         courseName  \\\n",
       "2705  Data Science with Artificial Intelligence MSc   \n",
       "739                   Advanced Computer Science MSc   \n",
       "238                                MSc - Management   \n",
       "1896                        Civil Engineering - MSc   \n",
       "5267               Management in Construction (MSc)   \n",
       "834     Advanced Mechanical Engineering - MSc (Eng)   \n",
       "1892                        Civil Engineering - MSc   \n",
       "1843                         Chemical Science (MSc)   \n",
       "1286                  Artificial Intelligence (MSc)   \n",
       "773                 Advanced Engineering Design MSc   \n",
       "\n",
       "                   universityName  \\\n",
       "2705         University of Exeter   \n",
       "739            Swansea University   \n",
       "238             Durham University   \n",
       "1896           Abertay University   \n",
       "5267          Kingston University   \n",
       "834           University of Leeds   \n",
       "1892        University of Glasgow   \n",
       "1843     University of St Andrews   \n",
       "1286   Queen’s University Belfast   \n",
       "773      Brunel University London   \n",
       "\n",
       "                                            description  \\\n",
       "2705   Overview    Designed for those interested in ...   \n",
       "739    Advanced Computer Science Course Overview   T...   \n",
       "238    Our  MSc Management  is ranked 5th in the UK ...   \n",
       "1896   Our Civil Engineering MSc will give you a com...   \n",
       "5267   This industry-accredited course is suitable f...   \n",
       "834    This course offers a broad range of advanced ...   \n",
       "1892   Those who study the Masters in Civil Engineer...   \n",
       "1843   The MSc in Chemical Science is a one-year tau...   \n",
       "1286   In the last decade the advances in Artificial...   \n",
       "773    Ask Brunel     Our Advanced Engineering Desig...   \n",
       "\n",
       "                                                    url  new_score  \n",
       "2705   https://www.findamasters.com/masters-degrees/...   1.000000  \n",
       "739    https://www.findamasters.com/masters-degrees/...   0.694697  \n",
       "238    https://www.findamasters.com/masters-degrees/...   0.653119  \n",
       "1896   https://www.findamasters.com/masters-degrees/...   0.638602  \n",
       "5267   https://www.findamasters.com/masters-degrees/...   0.638602  \n",
       "834    https://www.findamasters.com/masters-degrees/...   0.637356  \n",
       "1892   https://www.findamasters.com/masters-degrees/...   0.633880  \n",
       "1843   https://www.findamasters.com/masters-degrees/...   0.631789  \n",
       "1286   https://www.findamasters.com/masters-degrees/...   0.630749  \n",
       "773    https://www.findamasters.com/masters-degrees/...   0.628131  "
      ]
     },
     "execution_count": 12,
     "metadata": {},
     "output_type": "execute_result"
    }
   ],
   "source": [
    "user_query2 = \"advanced knowledge\"\n",
    "\n",
    "query = functions.preprocess_query(user_query2)\n",
    "\n",
    "conj_query = functions.get_documents_conjunctive_query(query, vocabulary_dict, inverted_index)\n",
    "resulting_columns = ['courseName', 'universityName', 'description', 'url']\n",
    "adv_kno = msc_degrees.loc[conj_query, resulting_columns]\n",
    "\n",
    "# Concatenate relevant columns for BM25 calculation\n",
    "adv_kno['combined_text'] = adv_kno['courseName'] + ' ' + adv_kno['universityName'] + ' ' + adv_kno['description']\n",
    "\n",
    "# Tokenize the text\n",
    "tokenized_text = [text.split() for text in adv_kno['combined_text']]\n",
    "\n",
    "# Train BM25 model\n",
    "bm25 = BM25Okapi(tokenized_text)\n",
    "\n",
    "# Converting the user query back to a string\n",
    "tokenized_query = ' '.join(query)\n",
    "\n",
    "# Calculate BM25 scores\n",
    "bm25_scores = bm25.get_scores(tokenized_query)\n",
    "\n",
    "# Normalize scores between 0 and 1\n",
    "max_score = max(bm25_scores)\n",
    "normalized_scores = [score / max_score for score in bm25_scores]\n",
    "\n",
    "# Add normalized scores to DataFrame\n",
    "adv_kno['new_score'] = normalized_scores\n",
    "\n",
    "# Use heap to maintain top-k documents\n",
    "k = 10 \n",
    "heap = []\n",
    "\n",
    "# Iterate through the rows and maintain a heap of top-k documents based on scores\n",
    "for idx, score in enumerate(normalized_scores):\n",
    "    if len(heap) < k:\n",
    "        heapq.heappush(heap, (score, idx))\n",
    "    else:\n",
    "        heapq.heappushpop(heap, (score, idx))\n",
    "\n",
    "# Retrieve top-k documents based on heap\n",
    "top_k_indices = [index for (m, index) in sorted(heap, reverse=True)]\n",
    "top_results = adv_kno.iloc[top_k_indices][['courseName', 'universityName', 'description', 'url', 'new_score']]\n",
    "\n",
    "top_results"
   ]
  },
  {
   "cell_type": "markdown",
   "metadata": {},
   "source": [
    "BM25, or Best Matching 25, is an information retrieval algorithm used to rank documents based on their similarity to a given search query. It's an improved version of TF-IDF (Term Frequency-Inverse Document Frequency) and addresses some of its limitations. \n",
    "\n",
    "BM25 considers the length of the document, term frequency, and inverse document frequency to score document relevance to a query. BM25 uses a saturation function for term frequency, i.e., increasing term frequency beyond a certain point won't lead to an increase in the score. BM25 normalizes scores based on document length, preventing longer documents from having an undue advantage.\n",
    "\n",
    "BM25 is often considered an improvement over TF-IDF for several reasons:\n",
    "Document Length Handling: BM25 effectively handles varying document lengths, unlike TF-IDF, which can bias towards longer documents.\n",
    "Saturation Effect: The saturation effect in BM25 helps in controlling the influence of very frequent terms in the scoring process.\n",
    "Query Relevance: BM25 can often yield more relevant results for a search query by considering various aspects of term frequency and document length."
   ]
  },
  {
   "cell_type": "markdown",
   "metadata": {},
   "source": [
    "# 4. Visualizing the most relevant MSc degrees"
   ]
  },
  {
   "cell_type": "code",
   "execution_count": 13,
   "metadata": {},
   "outputs": [
    {
     "data": {
      "text/html": [
       "<div>\n",
       "<style scoped>\n",
       "    .dataframe tbody tr th:only-of-type {\n",
       "        vertical-align: middle;\n",
       "    }\n",
       "\n",
       "    .dataframe tbody tr th {\n",
       "        vertical-align: top;\n",
       "    }\n",
       "\n",
       "    .dataframe thead th {\n",
       "        text-align: right;\n",
       "    }\n",
       "</style>\n",
       "<table border=\"1\" class=\"dataframe\">\n",
       "  <thead>\n",
       "    <tr style=\"text-align: right;\">\n",
       "      <th></th>\n",
       "      <th>city</th>\n",
       "      <th>country</th>\n",
       "    </tr>\n",
       "  </thead>\n",
       "  <tbody>\n",
       "    <tr>\n",
       "      <th>0</th>\n",
       "      <td>Glasgow</td>\n",
       "      <td>United Kingdom</td>\n",
       "    </tr>\n",
       "    <tr>\n",
       "      <th>1</th>\n",
       "      <td>Brussels</td>\n",
       "      <td>Belgium</td>\n",
       "    </tr>\n",
       "    <tr>\n",
       "      <th>2</th>\n",
       "      <td>Reading</td>\n",
       "      <td>United Kingdom</td>\n",
       "    </tr>\n",
       "    <tr>\n",
       "      <th>3</th>\n",
       "      <td>London</td>\n",
       "      <td>United Kingdom</td>\n",
       "    </tr>\n",
       "    <tr>\n",
       "      <th>4</th>\n",
       "      <td>Leeds</td>\n",
       "      <td>United Kingdom</td>\n",
       "    </tr>\n",
       "    <tr>\n",
       "      <th>...</th>\n",
       "      <td>...</td>\n",
       "      <td>...</td>\n",
       "    </tr>\n",
       "    <tr>\n",
       "      <th>5957</th>\n",
       "      <td>Bergen</td>\n",
       "      <td>Norway</td>\n",
       "    </tr>\n",
       "    <tr>\n",
       "      <th>5963</th>\n",
       "      <td>Lille</td>\n",
       "      <td>France</td>\n",
       "    </tr>\n",
       "    <tr>\n",
       "      <th>5971</th>\n",
       "      <td>Lausanne</td>\n",
       "      <td>Switzerland</td>\n",
       "    </tr>\n",
       "    <tr>\n",
       "      <th>5985</th>\n",
       "      <td>Barcelona</td>\n",
       "      <td>Spain</td>\n",
       "    </tr>\n",
       "    <tr>\n",
       "      <th>5991</th>\n",
       "      <td>Corvallis</td>\n",
       "      <td>USA</td>\n",
       "    </tr>\n",
       "  </tbody>\n",
       "</table>\n",
       "<p>220 rows × 2 columns</p>\n",
       "</div>"
      ],
      "text/plain": [
       "            city          country\n",
       "0        Glasgow   United Kingdom\n",
       "1       Brussels          Belgium\n",
       "2        Reading   United Kingdom\n",
       "3         London   United Kingdom\n",
       "4          Leeds   United Kingdom\n",
       "...          ...              ...\n",
       "5957      Bergen           Norway\n",
       "5963       Lille           France\n",
       "5971    Lausanne      Switzerland\n",
       "5985   Barcelona            Spain\n",
       "5991   Corvallis              USA\n",
       "\n",
       "[220 rows x 2 columns]"
      ]
     },
     "execution_count": 13,
     "metadata": {},
     "output_type": "execute_result"
    }
   ],
   "source": [
    "# List of unique places \n",
    "unique_places = msc_degrees[['city', 'country']].drop_duplicates()\n",
    "unique_places"
   ]
  },
  {
   "cell_type": "markdown",
   "metadata": {},
   "source": [
    "Latitude and longitude of university (from Phind (https://www.phind.com/search?cache=o8ft3vl1nd9w2kjtj79v1lh0) as it was suggested in the question):\n",
    "> To deal with latitude and longitude Phind suggested to create a geolocator object with geopy.geocoders that takes in a \"user_agent\" and \"timeout\" parameter.\n",
    "The user_agent is a string that identifies your program to the geocoding service, and the timeout is the number of seconds the program will wait before giving up on getting a response from the service. We set the timeout to 10 because with the default one the program didn't run long enough."
   ]
  },
  {
   "cell_type": "code",
   "execution_count": 14,
   "metadata": {},
   "outputs": [],
   "source": [
    "geolocator = Nominatim(user_agent=\"McCoursesExercise\", timeout=10)"
   ]
  },
  {
   "cell_type": "markdown",
   "metadata": {},
   "source": [
    "> The get_coordinates function takes a city name and a country name as input, and returns the latitude and longitude of the city. It uses the geocode method of the geolocator object to get these coordinates. If the geocode method can't find a location that matches the city and country names, it returns None for both the latitude and longitude:"
   ]
  },
  {
   "cell_type": "code",
   "execution_count": 15,
   "metadata": {},
   "outputs": [],
   "source": [
    "def get_coordinates(city, country):\n",
    "    location = geolocator.geocode(f'{city}, {country}')\n",
    "    if location is None:\n",
    "        return None, None\n",
    "    else:\n",
    "        return location.latitude, location.longitude"
   ]
  },
  {
   "cell_type": "code",
   "execution_count": 16,
   "metadata": {},
   "outputs": [],
   "source": [
    "latitude, longitude = zip(*unique_places.apply(lambda row: get_coordinates(row['city'], row['country']), axis=1))"
   ]
  },
  {
   "cell_type": "markdown",
   "metadata": {},
   "source": [
    "> This code then gets the latitude and longitude for each unique place in the unique_places DataFrame by using the apply method of the DataFrame, which applies a function to each row. The result is an iterator of tuples, where each tuple contains a latitude and a longitude. These coordinates are then extracted from the DataFrame using the zip function."
   ]
  },
  {
   "cell_type": "code",
   "execution_count": 17,
   "metadata": {},
   "outputs": [
    {
     "data": {
      "text/html": [
       "<div>\n",
       "<style scoped>\n",
       "    .dataframe tbody tr th:only-of-type {\n",
       "        vertical-align: middle;\n",
       "    }\n",
       "\n",
       "    .dataframe tbody tr th {\n",
       "        vertical-align: top;\n",
       "    }\n",
       "\n",
       "    .dataframe thead th {\n",
       "        text-align: right;\n",
       "    }\n",
       "</style>\n",
       "<table border=\"1\" class=\"dataframe\">\n",
       "  <thead>\n",
       "    <tr style=\"text-align: right;\">\n",
       "      <th></th>\n",
       "      <th>city</th>\n",
       "      <th>country</th>\n",
       "      <th>latitude</th>\n",
       "      <th>longitude</th>\n",
       "    </tr>\n",
       "  </thead>\n",
       "  <tbody>\n",
       "    <tr>\n",
       "      <th>0</th>\n",
       "      <td>Glasgow</td>\n",
       "      <td>United Kingdom</td>\n",
       "      <td>55.861155</td>\n",
       "      <td>-4.250169</td>\n",
       "    </tr>\n",
       "    <tr>\n",
       "      <th>1</th>\n",
       "      <td>Brussels</td>\n",
       "      <td>Belgium</td>\n",
       "      <td>50.855002</td>\n",
       "      <td>4.351233</td>\n",
       "    </tr>\n",
       "    <tr>\n",
       "      <th>2</th>\n",
       "      <td>Reading</td>\n",
       "      <td>United Kingdom</td>\n",
       "      <td>51.456424</td>\n",
       "      <td>-0.970066</td>\n",
       "    </tr>\n",
       "    <tr>\n",
       "      <th>3</th>\n",
       "      <td>London</td>\n",
       "      <td>United Kingdom</td>\n",
       "      <td>51.507446</td>\n",
       "      <td>-0.127765</td>\n",
       "    </tr>\n",
       "    <tr>\n",
       "      <th>4</th>\n",
       "      <td>Leeds</td>\n",
       "      <td>United Kingdom</td>\n",
       "      <td>53.797418</td>\n",
       "      <td>-1.543794</td>\n",
       "    </tr>\n",
       "    <tr>\n",
       "      <th>...</th>\n",
       "      <td>...</td>\n",
       "      <td>...</td>\n",
       "      <td>...</td>\n",
       "      <td>...</td>\n",
       "    </tr>\n",
       "    <tr>\n",
       "      <th>5957</th>\n",
       "      <td>Bergen</td>\n",
       "      <td>Norway</td>\n",
       "      <td>60.394306</td>\n",
       "      <td>5.325919</td>\n",
       "    </tr>\n",
       "    <tr>\n",
       "      <th>5963</th>\n",
       "      <td>Lille</td>\n",
       "      <td>France</td>\n",
       "      <td>50.636565</td>\n",
       "      <td>3.063528</td>\n",
       "    </tr>\n",
       "    <tr>\n",
       "      <th>5971</th>\n",
       "      <td>Lausanne</td>\n",
       "      <td>Switzerland</td>\n",
       "      <td>46.521827</td>\n",
       "      <td>6.632702</td>\n",
       "    </tr>\n",
       "    <tr>\n",
       "      <th>5985</th>\n",
       "      <td>Barcelona</td>\n",
       "      <td>Spain</td>\n",
       "      <td>41.382894</td>\n",
       "      <td>2.177432</td>\n",
       "    </tr>\n",
       "    <tr>\n",
       "      <th>5991</th>\n",
       "      <td>Corvallis</td>\n",
       "      <td>USA</td>\n",
       "      <td>44.564566</td>\n",
       "      <td>-123.262044</td>\n",
       "    </tr>\n",
       "  </tbody>\n",
       "</table>\n",
       "<p>220 rows × 4 columns</p>\n",
       "</div>"
      ],
      "text/plain": [
       "            city          country   latitude   longitude\n",
       "0        Glasgow   United Kingdom  55.861155   -4.250169\n",
       "1       Brussels          Belgium  50.855002    4.351233\n",
       "2        Reading   United Kingdom  51.456424   -0.970066\n",
       "3         London   United Kingdom  51.507446   -0.127765\n",
       "4          Leeds   United Kingdom  53.797418   -1.543794\n",
       "...          ...              ...        ...         ...\n",
       "5957      Bergen           Norway  60.394306    5.325919\n",
       "5963       Lille           France  50.636565    3.063528\n",
       "5971    Lausanne      Switzerland  46.521827    6.632702\n",
       "5985   Barcelona            Spain  41.382894    2.177432\n",
       "5991   Corvallis              USA  44.564566 -123.262044\n",
       "\n",
       "[220 rows x 4 columns]"
      ]
     },
     "execution_count": 17,
     "metadata": {},
     "output_type": "execute_result"
    }
   ],
   "source": [
    "#then we create a latitude and longitude columns to which we assign the latitude and longitude found\n",
    "unique_places['latitude'] = latitude\n",
    "unique_places['longitude'] = longitude\n",
    "#we get the following DataFrame\n",
    "unique_places"
   ]
  },
  {
   "cell_type": "code",
   "execution_count": 18,
   "metadata": {},
   "outputs": [
    {
     "data": {
      "text/plain": [
       "1       18000.0\n",
       "4       34750.0\n",
       "5       15000.0\n",
       "8       28750.0\n",
       "9       15000.0\n",
       "         ...   \n",
       "5988     7000.0\n",
       "5989    29900.0\n",
       "5994    29900.0\n",
       "5997    29900.0\n",
       "5998    29900.0\n",
       "Name: fees_EUR, Length: 1377, dtype: float64"
      ]
     },
     "execution_count": 18,
     "metadata": {},
     "output_type": "execute_result"
    }
   ],
   "source": [
    "#clean out the Nan from the fees_EUR column because we don't need them (we are doing it on a copy of our dataframe)\n",
    "degrees = msc_degrees[msc_degrees['fees_EUR'].notna()]\n",
    "degrees['fees_EUR'] "
   ]
  },
  {
   "cell_type": "markdown",
   "metadata": {},
   "source": [
    "Now we use plotly.express library to create an interactive scatter plot on a map:\n",
    "> The px.set_mapbox_access_token function is used to set the Mapbox access token, which is required to use the Mapbox map in the plot."
   ]
  },
  {
   "cell_type": "code",
   "execution_count": 31,
   "metadata": {},
   "outputs": [
    {
     "data": {
      "application/vnd.plotly.v1+json": {
       "config": {
        "plotlyServerURL": "https://plot.ly"
       },
       "data": [
        {
         "customdata": [
          [
           " London",
           " United Kingdom",
           "Built Environment: Environmental Design and Engineering MSc",
           51.5074456,
           -0.1277653
          ],
          [
           " London",
           " United Kingdom",
           "Cognitive and Clinical Neuroscience MSc",
           51.5074456,
           -0.1277653
          ],
          [
           " Reading",
           " United Kingdom",
           "Design and Management of Sustainable Built Environments",
           51.4564242,
           -0.9700664
          ],
          [
           " Cardiff",
           " United Kingdom",
           "Preventative Cardiovascular Medicine - MSc",
           51.4816546,
           -3.1791934
          ],
          [
           " London",
           " United Kingdom",
           "Language Sciences (Neuroscience, Language and Speech) MSc",
           51.5074456,
           -0.1277653
          ],
          [
           " London",
           " United Kingdom",
           "Digital Marketing with Data Analytics MSc",
           51.5074456,
           -0.1277653
          ],
          [
           " Cardiff",
           " United Kingdom",
           "Neurology - MSc",
           51.4816546,
           -3.1791934
          ],
          [
           " Bath",
           " United Kingdom",
           "Business Analytics, online MSc",
           51.3813864,
           -2.3596963
          ],
          [
           " London",
           " United Kingdom",
           "Master's in Innovation and Social Entrepreneurship",
           51.5074456,
           -0.1277653
          ],
          [
           " London",
           " United Kingdom",
           "Crime Science with Cybercrime MSc",
           51.5074456,
           -0.1277653
          ]
         ],
         "hovertemplate": "Fees (€)=%{marker.color}<br>City=%{customdata[0]}<br>Country=%{customdata[1]}<br>Course Name=%{customdata[2]}<extra></extra>",
         "lat": [
          51.5074456,
          51.5074456,
          51.4564242,
          51.4816546,
          51.5074456,
          51.5074456,
          51.4816546,
          51.3813864,
          51.5074456,
          51.5074456
         ],
         "legendgroup": "",
         "lon": [
          -0.1277653,
          -0.1277653,
          -0.9700664,
          -3.1791934,
          -0.1277653,
          -0.1277653,
          -3.1791934,
          -2.3596963,
          -0.1277653,
          -0.1277653
         ],
         "marker": {
          "color": [
           18000,
           15100,
           26950,
           9000,
           14100,
           17900,
           8880,
           833,
           12000,
           16100
          ],
          "coloraxis": "coloraxis",
          "size": [
           18000,
           15100,
           26950,
           9000,
           14100,
           17900,
           8880,
           833,
           12000,
           16100
          ],
          "sizemode": "area",
          "sizeref": 119.77777777777777
         },
         "mode": "markers",
         "name": "",
         "showlegend": false,
         "subplot": "mapbox",
         "type": "scattermapbox"
        }
       ],
       "layout": {
        "coloraxis": {
         "colorbar": {
          "title": {
           "text": "Fees (€)"
          }
         },
         "colorscale": [
          [
           0,
           "green"
          ],
          [
           0.5,
           "yellow"
          ],
          [
           1,
           "orangered"
          ]
         ]
        },
        "legend": {
         "itemsizing": "constant",
         "tracegroupgap": 0
        },
        "mapbox": {
         "accesstoken": "pk.eyJ1IjoibGl2aWE5OSIsImEiOiJjbHA0bmFhODAwMzZrMmtwZzU0a3l1ZWVyIn0.j8zUsZly7s_HA72MvLjhjQ",
         "center": {
          "lat": 51.484579339999996,
          "lon": -1.0454741300000001
         },
         "domain": {
          "x": [
           0,
           1
          ],
          "y": [
           0,
           1
          ]
         },
         "style": "outdoors",
         "zoom": 10
        },
        "margin": {
         "t": 60
        },
        "template": {
         "data": {
          "bar": [
           {
            "error_x": {
             "color": "#2a3f5f"
            },
            "error_y": {
             "color": "#2a3f5f"
            },
            "marker": {
             "line": {
              "color": "#E5ECF6",
              "width": 0.5
             },
             "pattern": {
              "fillmode": "overlay",
              "size": 10,
              "solidity": 0.2
             }
            },
            "type": "bar"
           }
          ],
          "barpolar": [
           {
            "marker": {
             "line": {
              "color": "#E5ECF6",
              "width": 0.5
             },
             "pattern": {
              "fillmode": "overlay",
              "size": 10,
              "solidity": 0.2
             }
            },
            "type": "barpolar"
           }
          ],
          "carpet": [
           {
            "aaxis": {
             "endlinecolor": "#2a3f5f",
             "gridcolor": "white",
             "linecolor": "white",
             "minorgridcolor": "white",
             "startlinecolor": "#2a3f5f"
            },
            "baxis": {
             "endlinecolor": "#2a3f5f",
             "gridcolor": "white",
             "linecolor": "white",
             "minorgridcolor": "white",
             "startlinecolor": "#2a3f5f"
            },
            "type": "carpet"
           }
          ],
          "choropleth": [
           {
            "colorbar": {
             "outlinewidth": 0,
             "ticks": ""
            },
            "type": "choropleth"
           }
          ],
          "contour": [
           {
            "colorbar": {
             "outlinewidth": 0,
             "ticks": ""
            },
            "colorscale": [
             [
              0,
              "#0d0887"
             ],
             [
              0.1111111111111111,
              "#46039f"
             ],
             [
              0.2222222222222222,
              "#7201a8"
             ],
             [
              0.3333333333333333,
              "#9c179e"
             ],
             [
              0.4444444444444444,
              "#bd3786"
             ],
             [
              0.5555555555555556,
              "#d8576b"
             ],
             [
              0.6666666666666666,
              "#ed7953"
             ],
             [
              0.7777777777777778,
              "#fb9f3a"
             ],
             [
              0.8888888888888888,
              "#fdca26"
             ],
             [
              1,
              "#f0f921"
             ]
            ],
            "type": "contour"
           }
          ],
          "contourcarpet": [
           {
            "colorbar": {
             "outlinewidth": 0,
             "ticks": ""
            },
            "type": "contourcarpet"
           }
          ],
          "heatmap": [
           {
            "colorbar": {
             "outlinewidth": 0,
             "ticks": ""
            },
            "colorscale": [
             [
              0,
              "#0d0887"
             ],
             [
              0.1111111111111111,
              "#46039f"
             ],
             [
              0.2222222222222222,
              "#7201a8"
             ],
             [
              0.3333333333333333,
              "#9c179e"
             ],
             [
              0.4444444444444444,
              "#bd3786"
             ],
             [
              0.5555555555555556,
              "#d8576b"
             ],
             [
              0.6666666666666666,
              "#ed7953"
             ],
             [
              0.7777777777777778,
              "#fb9f3a"
             ],
             [
              0.8888888888888888,
              "#fdca26"
             ],
             [
              1,
              "#f0f921"
             ]
            ],
            "type": "heatmap"
           }
          ],
          "heatmapgl": [
           {
            "colorbar": {
             "outlinewidth": 0,
             "ticks": ""
            },
            "colorscale": [
             [
              0,
              "#0d0887"
             ],
             [
              0.1111111111111111,
              "#46039f"
             ],
             [
              0.2222222222222222,
              "#7201a8"
             ],
             [
              0.3333333333333333,
              "#9c179e"
             ],
             [
              0.4444444444444444,
              "#bd3786"
             ],
             [
              0.5555555555555556,
              "#d8576b"
             ],
             [
              0.6666666666666666,
              "#ed7953"
             ],
             [
              0.7777777777777778,
              "#fb9f3a"
             ],
             [
              0.8888888888888888,
              "#fdca26"
             ],
             [
              1,
              "#f0f921"
             ]
            ],
            "type": "heatmapgl"
           }
          ],
          "histogram": [
           {
            "marker": {
             "pattern": {
              "fillmode": "overlay",
              "size": 10,
              "solidity": 0.2
             }
            },
            "type": "histogram"
           }
          ],
          "histogram2d": [
           {
            "colorbar": {
             "outlinewidth": 0,
             "ticks": ""
            },
            "colorscale": [
             [
              0,
              "#0d0887"
             ],
             [
              0.1111111111111111,
              "#46039f"
             ],
             [
              0.2222222222222222,
              "#7201a8"
             ],
             [
              0.3333333333333333,
              "#9c179e"
             ],
             [
              0.4444444444444444,
              "#bd3786"
             ],
             [
              0.5555555555555556,
              "#d8576b"
             ],
             [
              0.6666666666666666,
              "#ed7953"
             ],
             [
              0.7777777777777778,
              "#fb9f3a"
             ],
             [
              0.8888888888888888,
              "#fdca26"
             ],
             [
              1,
              "#f0f921"
             ]
            ],
            "type": "histogram2d"
           }
          ],
          "histogram2dcontour": [
           {
            "colorbar": {
             "outlinewidth": 0,
             "ticks": ""
            },
            "colorscale": [
             [
              0,
              "#0d0887"
             ],
             [
              0.1111111111111111,
              "#46039f"
             ],
             [
              0.2222222222222222,
              "#7201a8"
             ],
             [
              0.3333333333333333,
              "#9c179e"
             ],
             [
              0.4444444444444444,
              "#bd3786"
             ],
             [
              0.5555555555555556,
              "#d8576b"
             ],
             [
              0.6666666666666666,
              "#ed7953"
             ],
             [
              0.7777777777777778,
              "#fb9f3a"
             ],
             [
              0.8888888888888888,
              "#fdca26"
             ],
             [
              1,
              "#f0f921"
             ]
            ],
            "type": "histogram2dcontour"
           }
          ],
          "mesh3d": [
           {
            "colorbar": {
             "outlinewidth": 0,
             "ticks": ""
            },
            "type": "mesh3d"
           }
          ],
          "parcoords": [
           {
            "line": {
             "colorbar": {
              "outlinewidth": 0,
              "ticks": ""
             }
            },
            "type": "parcoords"
           }
          ],
          "pie": [
           {
            "automargin": true,
            "type": "pie"
           }
          ],
          "scatter": [
           {
            "fillpattern": {
             "fillmode": "overlay",
             "size": 10,
             "solidity": 0.2
            },
            "type": "scatter"
           }
          ],
          "scatter3d": [
           {
            "line": {
             "colorbar": {
              "outlinewidth": 0,
              "ticks": ""
             }
            },
            "marker": {
             "colorbar": {
              "outlinewidth": 0,
              "ticks": ""
             }
            },
            "type": "scatter3d"
           }
          ],
          "scattercarpet": [
           {
            "marker": {
             "colorbar": {
              "outlinewidth": 0,
              "ticks": ""
             }
            },
            "type": "scattercarpet"
           }
          ],
          "scattergeo": [
           {
            "marker": {
             "colorbar": {
              "outlinewidth": 0,
              "ticks": ""
             }
            },
            "type": "scattergeo"
           }
          ],
          "scattergl": [
           {
            "marker": {
             "colorbar": {
              "outlinewidth": 0,
              "ticks": ""
             }
            },
            "type": "scattergl"
           }
          ],
          "scattermapbox": [
           {
            "marker": {
             "colorbar": {
              "outlinewidth": 0,
              "ticks": ""
             }
            },
            "type": "scattermapbox"
           }
          ],
          "scatterpolar": [
           {
            "marker": {
             "colorbar": {
              "outlinewidth": 0,
              "ticks": ""
             }
            },
            "type": "scatterpolar"
           }
          ],
          "scatterpolargl": [
           {
            "marker": {
             "colorbar": {
              "outlinewidth": 0,
              "ticks": ""
             }
            },
            "type": "scatterpolargl"
           }
          ],
          "scatterternary": [
           {
            "marker": {
             "colorbar": {
              "outlinewidth": 0,
              "ticks": ""
             }
            },
            "type": "scatterternary"
           }
          ],
          "surface": [
           {
            "colorbar": {
             "outlinewidth": 0,
             "ticks": ""
            },
            "colorscale": [
             [
              0,
              "#0d0887"
             ],
             [
              0.1111111111111111,
              "#46039f"
             ],
             [
              0.2222222222222222,
              "#7201a8"
             ],
             [
              0.3333333333333333,
              "#9c179e"
             ],
             [
              0.4444444444444444,
              "#bd3786"
             ],
             [
              0.5555555555555556,
              "#d8576b"
             ],
             [
              0.6666666666666666,
              "#ed7953"
             ],
             [
              0.7777777777777778,
              "#fb9f3a"
             ],
             [
              0.8888888888888888,
              "#fdca26"
             ],
             [
              1,
              "#f0f921"
             ]
            ],
            "type": "surface"
           }
          ],
          "table": [
           {
            "cells": {
             "fill": {
              "color": "#EBF0F8"
             },
             "line": {
              "color": "white"
             }
            },
            "header": {
             "fill": {
              "color": "#C8D4E3"
             },
             "line": {
              "color": "white"
             }
            },
            "type": "table"
           }
          ]
         },
         "layout": {
          "annotationdefaults": {
           "arrowcolor": "#2a3f5f",
           "arrowhead": 0,
           "arrowwidth": 1
          },
          "autotypenumbers": "strict",
          "coloraxis": {
           "colorbar": {
            "outlinewidth": 0,
            "ticks": ""
           }
          },
          "colorscale": {
           "diverging": [
            [
             0,
             "#8e0152"
            ],
            [
             0.1,
             "#c51b7d"
            ],
            [
             0.2,
             "#de77ae"
            ],
            [
             0.3,
             "#f1b6da"
            ],
            [
             0.4,
             "#fde0ef"
            ],
            [
             0.5,
             "#f7f7f7"
            ],
            [
             0.6,
             "#e6f5d0"
            ],
            [
             0.7,
             "#b8e186"
            ],
            [
             0.8,
             "#7fbc41"
            ],
            [
             0.9,
             "#4d9221"
            ],
            [
             1,
             "#276419"
            ]
           ],
           "sequential": [
            [
             0,
             "#0d0887"
            ],
            [
             0.1111111111111111,
             "#46039f"
            ],
            [
             0.2222222222222222,
             "#7201a8"
            ],
            [
             0.3333333333333333,
             "#9c179e"
            ],
            [
             0.4444444444444444,
             "#bd3786"
            ],
            [
             0.5555555555555556,
             "#d8576b"
            ],
            [
             0.6666666666666666,
             "#ed7953"
            ],
            [
             0.7777777777777778,
             "#fb9f3a"
            ],
            [
             0.8888888888888888,
             "#fdca26"
            ],
            [
             1,
             "#f0f921"
            ]
           ],
           "sequentialminus": [
            [
             0,
             "#0d0887"
            ],
            [
             0.1111111111111111,
             "#46039f"
            ],
            [
             0.2222222222222222,
             "#7201a8"
            ],
            [
             0.3333333333333333,
             "#9c179e"
            ],
            [
             0.4444444444444444,
             "#bd3786"
            ],
            [
             0.5555555555555556,
             "#d8576b"
            ],
            [
             0.6666666666666666,
             "#ed7953"
            ],
            [
             0.7777777777777778,
             "#fb9f3a"
            ],
            [
             0.8888888888888888,
             "#fdca26"
            ],
            [
             1,
             "#f0f921"
            ]
           ]
          },
          "colorway": [
           "#636efa",
           "#EF553B",
           "#00cc96",
           "#ab63fa",
           "#FFA15A",
           "#19d3f3",
           "#FF6692",
           "#B6E880",
           "#FF97FF",
           "#FECB52"
          ],
          "font": {
           "color": "#2a3f5f"
          },
          "geo": {
           "bgcolor": "white",
           "lakecolor": "white",
           "landcolor": "#E5ECF6",
           "showlakes": true,
           "showland": true,
           "subunitcolor": "white"
          },
          "hoverlabel": {
           "align": "left"
          },
          "hovermode": "closest",
          "mapbox": {
           "style": "light"
          },
          "paper_bgcolor": "white",
          "plot_bgcolor": "#E5ECF6",
          "polar": {
           "angularaxis": {
            "gridcolor": "white",
            "linecolor": "white",
            "ticks": ""
           },
           "bgcolor": "#E5ECF6",
           "radialaxis": {
            "gridcolor": "white",
            "linecolor": "white",
            "ticks": ""
           }
          },
          "scene": {
           "xaxis": {
            "backgroundcolor": "#E5ECF6",
            "gridcolor": "white",
            "gridwidth": 2,
            "linecolor": "white",
            "showbackground": true,
            "ticks": "",
            "zerolinecolor": "white"
           },
           "yaxis": {
            "backgroundcolor": "#E5ECF6",
            "gridcolor": "white",
            "gridwidth": 2,
            "linecolor": "white",
            "showbackground": true,
            "ticks": "",
            "zerolinecolor": "white"
           },
           "zaxis": {
            "backgroundcolor": "#E5ECF6",
            "gridcolor": "white",
            "gridwidth": 2,
            "linecolor": "white",
            "showbackground": true,
            "ticks": "",
            "zerolinecolor": "white"
           }
          },
          "shapedefaults": {
           "line": {
            "color": "#2a3f5f"
           }
          },
          "ternary": {
           "aaxis": {
            "gridcolor": "white",
            "linecolor": "white",
            "ticks": ""
           },
           "baxis": {
            "gridcolor": "white",
            "linecolor": "white",
            "ticks": ""
           },
           "bgcolor": "#E5ECF6",
           "caxis": {
            "gridcolor": "white",
            "linecolor": "white",
            "ticks": ""
           }
          },
          "title": {
           "x": 0.05
          },
          "xaxis": {
           "automargin": true,
           "gridcolor": "white",
           "linecolor": "white",
           "ticks": "",
           "title": {
            "standoff": 15
           },
           "zerolinecolor": "white",
           "zerolinewidth": 2
          },
          "yaxis": {
           "automargin": true,
           "gridcolor": "white",
           "linecolor": "white",
           "ticks": "",
           "title": {
            "standoff": 15
           },
           "zerolinecolor": "white",
           "zerolinewidth": 2
          }
         }
        },
        "title": {
         "text": "Msc degrees and associated fees all over the world"
        }
       }
      }
     },
     "metadata": {},
     "output_type": "display_data"
    }
   ],
   "source": [
    "merged_df = pd.merge(unique_places, degrees, how='inner', on=['city', 'country']).iloc[top_k_indices]\n",
    "\n",
    "# Set your Mapbox access token\n",
    "#Mapbox API token: pk.eyJ1IjoibGl2aWE5OSIsImEiOiJjbHA0bmFhODAwMzZrMmtwZzU0a3l1ZWVyIn0.j8zUsZly7s_HA72MvLjhjQ\n",
    "px.set_mapbox_access_token('pk.eyJ1IjoibGl2aWE5OSIsImEiOiJjbHA0bmFhODAwMzZrMmtwZzU0a3l1ZWVyIn0.j8zUsZly7s_HA72MvLjhjQ')\n",
    "\n",
    "# Create a scatter plot on a map\n",
    "fig = px.scatter_mapbox(merged_df,\n",
    "                    lat='latitude',\n",
    "                    lon='longitude',\n",
    "                    color='fees_EUR', # set the color of markers according to the fees\n",
    "                    size='fees_EUR', # set the size of markers according to the fees\n",
    "#We decided to set both the color and the size of the marker according to the fees because in some cases we have more than one \n",
    "#university in the same city (really near in location), and doing it this way we can see both the scale of the fees with respect \n",
    "#to the other countries and if there is any difference in the same country.\n",
    "                    hover_data={'city': True, 'country': True, 'courseName': True, 'latitude': False, 'longitude': False}, # columns added to hover information\n",
    "                    size_max=15, # set the maximum size of the markers\n",
    "                    zoom=10, # set the zoom level of the map\n",
    "                    labels={'courseName': 'Course Name', 'fees_EUR': 'Fees (€)', 'country': 'Country', 'city': 'City'},\n",
    "                    color_continuous_scale=['green', 'yellow', 'orange' 'red'] \n",
    "                   )\n",
    "\n",
    "fig.update_layout(mapbox_style=\"outdoors\", title='Msc degrees and associated fees all over the world')\n",
    "\n",
    "# Show the plot\n",
    "fig.show() \n",
    "#we can see from the gradient the different fees classe and by hovering on the specific place we can see the Master course name"
   ]
  },
  {
   "cell_type": "markdown",
   "metadata": {},
   "source": [
    "# 6. Command Line Question"
   ]
  },
  {
   "cell_type": "markdown",
   "metadata": {},
   "source": [
    "To work on the command line question, since I have a Windows operating system, I used Cygwin that allowed me to use Linux commands.\n",
    "\n",
    "To tackle the first request to merge all the tsv file created in the first question, I first manually added the column names to the first tsv file and then I used the cat command that concatenates the contents of all .tsv files that start with course_ and writes them into merged_courses.tsv. \n",
    "\n",
    "In the repository you will find both the CommandLine.sh file with the commented code for the required questions and the screenshot of the results."
   ]
  },
  {
   "attachments": {
    "CLscreen.jpg": {
     "image/jpeg": "[encoded data removed]"
    }
   },
   "cell_type": "markdown",
   "metadata": {},
   "source": [
    "![CLscreen.jpg](attachment:CLscreen.jpg)"
   ]
  },
  {
   "cell_type": "markdown",
   "metadata": {},
   "source": [
    "We use \"bash CommandLine.sh\" to execute the CommandLine.sh file"
   ]
  },
  {
   "cell_type": "markdown",
   "metadata": {},
   "source": [
    "# 7. Algorithmic Question (AQ)"
   ]
  },
  {
   "cell_type": "code",
   "execution_count": null,
   "metadata": {},
   "outputs": [
    {
     "name": "stdout",
     "output_type": "stream",
     "text": [
      " 1 1\n",
      " 2 3\n"
     ]
    },
    {
     "name": "stdout",
     "output_type": "stream",
     "text": [
      "NO\n"
     ]
    }
   ],
   "source": [
    "from itertools import product\n",
    "\n",
    "def input_day_hours():\n",
    "    return map(int, input().split())\n",
    "\n",
    "def main():\n",
    "    # Input the total number of days and the total number of hours\n",
    "    total_days, sum_hours = map(int, input().split())\n",
    "\n",
    "    # Initialize a list to store the ranges of hours for each day\n",
    "    day_min_max = []\n",
    "\n",
    "    # Input the minimum and maximum hours for each day and create a list of ranges\n",
    "    for _ in range(total_days):\n",
    "        min_hours, max_hours = input_day_hours()\n",
    "        day_min_max.append(list(range(min_hours, max_hours + 1)))\n",
    "\n",
    "    def find_combinations_with_sum(nested_list, target_sum):\n",
    "        # Get the minimum and maximum hours for each day\n",
    "        min_hours = [day[0] for day in nested_list]\n",
    "        max_hours = [day[-1] for day in nested_list]\n",
    "\n",
    "        # Check if the total hours are within the valid range\n",
    "        if sum_hours in range(sum(min_hours), sum(max_hours) + 1):\n",
    "            print('YES')\n",
    "        else:\n",
    "            print('NO')\n",
    "\n",
    "        # Iterate through all combinations of hours and print those with the target sum\n",
    "        for combination in product(*nested_list):\n",
    "            if sum(combination) == target_sum:\n",
    "                print(*combination)\n",
    "\n",
    "    # Call the function with the provided day_min_max and sum_hours\n",
    "    find_combinations_with_sum(day_min_max, sum_hours)\n",
    "\n",
    "if __name__ == \"__main__\":\n",
    "    main()"
   ]
  },
  {
   "cell_type": "markdown",
   "metadata": {},
   "source": [
    "2. time complexity :</br>\n",
    "Initializing min_hours and max_hours takes O(total_days).</br>\n",
    "Checking the total hours range is done in O(1) or constant.</br>\n",
    "Generating combinations takes O(product of sizes of nested_list).</br>\n",
    "Overall, the dominant factor is generating combinations, making the overall time complexity O(product of sizes of nested_list)."
   ]
  },
  {
   "cell_type": "markdown",
   "metadata": {},
   "source": [
    "3. chatgpt generated code : </br>\n",
    "the chatgpt generated code is correct and it is even more optimized, because it uses some kind of algorithm which does not generate all combinations."
   ]
  },
  {
   "cell_type": "markdown",
   "metadata": {},
   "source": [
    "4. being more optimized :</br>\n",
    "as we mentioned on section 3, the code can be more optimized using backtracking algorithm which avoids generating all combinations and searches among the valid combinations more effectively."
   ]
  }
 ],
 "metadata": {
  "kernelspec": {
   "display_name": "base",
   "language": "python",
   "name": "python3"
  },
  "language_info": {
   "codemirror_mode": {
    "name": "ipython",
    "version": 3
   },
   "file_extension": ".py",
   "mimetype": "text/x-python",
   "name": "python",
   "nbconvert_exporter": "python",
   "pygments_lexer": "ipython3",
   "version": "3.11.0"
  }
 },
 "nbformat": 4,
 "nbformat_minor": 2
}
