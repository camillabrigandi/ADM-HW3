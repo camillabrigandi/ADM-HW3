{
 "cells": [
  {
   "cell_type": "markdown",
   "id": "ecd0b4b5",
   "metadata": {},
   "source": [
    "6. Command Line Question"
   ]
  },
  {
   "cell_type": "markdown",
   "id": "d5cad339",
   "metadata": {},
   "source": [
    "To work on the command line question, since I have a Windows operating system, I used Cygwin that allowed me to use Linux commands.\n",
    "\n",
    "To tackle the first request to merge all the tsv file created in the first question, I first manually added the column names to the first tsv file and then I used the cat command that concatenates the contents of all .tsv files that start with course_ and writes them into merged_courses.tsv. "
   ]
  },
  {
   "attachments": {},
   "cell_type": "markdown",
   "id": "5a697a44",
   "metadata": {},
   "source": [
    "In the repository you will find both the CommandLine.sh file with the commented code for the required questions and the screenshot of the results."
   ]
  },
  {
   "cell_type": "markdown",
   "id": "b9517935",
   "metadata": {},
   "source": [
    "![CL%20screen%20.jpg](attachment:CL%20screen%20.jpg)"
   ]
  },
  {
   "cell_type": "markdown",
   "id": "c01726b4",
   "metadata": {},
   "source": [
    "We use \"bash CommandLine.sh\" to execute the CommandLine.sh file"
   ]
  }
 ],
 "metadata": {
  "kernelspec": {
   "display_name": "Python 3 (ipykernel)",
   "language": "python",
   "name": "python3"
  },
  "language_info": {
   "codemirror_mode": {
    "name": "ipython",
    "version": 3
   },
   "file_extension": ".py",
   "mimetype": "text/x-python",
   "name": "python",
   "nbconvert_exporter": "python",
   "pygments_lexer": "ipython3",
   "version": "3.10.9"
  }
 },
 "nbformat": 4,
 "nbformat_minor": 5
}
